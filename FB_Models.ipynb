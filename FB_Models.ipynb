{
 "cells": [
  {
   "cell_type": "markdown",
   "metadata": {
    "colab_type": "text",
    "id": "naWvqMEMHglO"
   },
   "source": [
    "<p style=\"font-size:32px;text-align:center\"> <b>Social network Graph Link Prediction - Facebook Challenge</b> </p>"
   ]
  },
  {
   "cell_type": "code",
   "execution_count": 1,
   "metadata": {
    "colab": {
     "base_uri": "https://localhost:8080/",
     "height": 122
    },
    "colab_type": "code",
    "id": "o1iPfSTHhzNL",
    "outputId": "56676447-d355-4a64-c7a4-8adafa81f87f"
   },
   "outputs": [
    {
     "name": "stdout",
     "output_type": "stream",
     "text": [
      "Go to this URL in a browser: https://accounts.google.com/o/oauth2/auth?client_id=947318989803-6bn6qk8qdgf4n4g3pfee6491hc0brc4i.apps.googleusercontent.com&redirect_uri=urn%3Aietf%3Awg%3Aoauth%3A2.0%3Aoob&scope=email%20https%3A%2F%2Fwww.googleapis.com%2Fauth%2Fdocs.test%20https%3A%2F%2Fwww.googleapis.com%2Fauth%2Fdrive%20https%3A%2F%2Fwww.googleapis.com%2Fauth%2Fdrive.photos.readonly%20https%3A%2F%2Fwww.googleapis.com%2Fauth%2Fpeopleapi.readonly&response_type=code\n",
      "\n",
      "Enter your authorization code:\n",
      "··········\n",
      "Mounted at /content/drive\n"
     ]
    }
   ],
   "source": [
    "# Load the Drive helper and mount\n",
    "from google.colab import drive\n",
    "drive.mount('/content/drive')"
   ]
  },
  {
   "cell_type": "code",
   "execution_count": 2,
   "metadata": {
    "colab": {
     "base_uri": "https://localhost:8080/",
     "height": 34
    },
    "colab_type": "code",
    "id": "tbMEqZPyiIPv",
    "outputId": "0c0d28dc-7f94-499c-bafd-131370bfa323"
   },
   "outputs": [
    {
     "name": "stdout",
     "output_type": "stream",
     "text": [
      "/content/drive/My Drive\n"
     ]
    }
   ],
   "source": [
    "cd drive/My Drive"
   ]
  },
  {
   "cell_type": "code",
   "execution_count": 0,
   "metadata": {
    "colab": {},
    "colab_type": "code",
    "id": "9wb9N5RzHglP"
   },
   "outputs": [],
   "source": [
    "#Importing Libraries\n",
    "# please do go through this python notebook: \n",
    "import warnings\n",
    "warnings.filterwarnings(\"ignore\")\n",
    "\n",
    "import csv\n",
    "import pandas as pd#pandas to create small dataframes \n",
    "import datetime #Convert to unix time\n",
    "import time #Convert to unix time\n",
    "# if numpy is not installed already : pip3 install numpy\n",
    "import numpy as np#Do aritmetic operations on arrays\n",
    "# matplotlib: used to plot graphs\n",
    "import matplotlib\n",
    "import matplotlib.pylab as plt\n",
    "import seaborn as sns#Plots\n",
    "from matplotlib import rcParams#Size of plots  \n",
    "from sklearn.cluster import MiniBatchKMeans, KMeans#Clustering\n",
    "import math\n",
    "import pickle\n",
    "import os\n",
    "# to install xgboost: pip3 install xgboost\n",
    "import xgboost as xgb\n",
    "\n",
    "import warnings\n",
    "import networkx as nx\n",
    "import pdb\n",
    "import pickle\n",
    "from pandas import HDFStore,DataFrame\n",
    "from pandas import read_hdf\n",
    "from scipy.sparse.linalg import svds, eigs\n",
    "import gc\n",
    "from tqdm import tqdm\n",
    "from sklearn.ensemble import RandomForestClassifier\n",
    "from sklearn.metrics import f1_score"
   ]
  },
  {
   "cell_type": "code",
   "execution_count": 0,
   "metadata": {
    "colab": {},
    "colab_type": "code",
    "id": "XC4OJFKkHglU"
   },
   "outputs": [],
   "source": [
    "#reading\n",
    "from pandas import read_hdf\n",
    "df_final_train = read_hdf('storage_sample_stage4.h5', 'train_df',mode='r')\n",
    "df_final_test = read_hdf('storage_sample_stage4.h5', 'test_df',mode='r')"
   ]
  },
  {
   "cell_type": "code",
   "execution_count": 0,
   "metadata": {
    "colab": {
     "base_uri": "https://localhost:8080/",
     "height": 267
    },
    "colab_type": "code",
    "id": "5Gm-BHRkHglW",
    "outputId": "52dbb015-9f88-43ad-ef3a-1f8cc5ac6a65"
   },
   "outputs": [
    {
     "data": {
      "text/plain": [
       "Index(['source_node', 'destination_node', 'indicator_link',\n",
       "       'jaccard_followers', 'jaccard_followees', 'cosine_followers',\n",
       "       'cosine_followees', 'num_followers_s', 'num_followers_d',\n",
       "       'num_followees_s', 'num_followees_d', 'inter_followers',\n",
       "       'inter_followees', 'adar_index', 'follows_back', 'same_comp',\n",
       "       'shortest_path', 'weight_in', 'weight_out', 'weight_f1', 'weight_f2',\n",
       "       'weight_f3', 'weight_f4', 'page_rank_s', 'page_rank_d', 'katz_s',\n",
       "       'katz_d', 'hubs_s', 'hubs_d', 'authorities_s', 'authorities_d',\n",
       "       'svd_u_s_1', 'svd_u_s_2', 'svd_u_s_3', 'svd_u_s_4', 'svd_u_s_5',\n",
       "       'svd_u_s_6', 'svd_u_d_1', 'svd_u_d_2', 'svd_u_d_3', 'svd_u_d_4',\n",
       "       'svd_u_d_5', 'svd_u_d_6', 'svd_v_s_1', 'svd_v_s_2', 'svd_v_s_3',\n",
       "       'svd_v_s_4', 'svd_v_s_5', 'svd_v_s_6', 'svd_v_d_1', 'svd_v_d_2',\n",
       "       'svd_v_d_3', 'svd_v_d_4', 'svd_v_d_5', 'svd_v_d_6'],\n",
       "      dtype='object')"
      ]
     },
     "execution_count": 5,
     "metadata": {
      "tags": []
     },
     "output_type": "execute_result"
    }
   ],
   "source": [
    "df_final_train.columns"
   ]
  },
  {
   "cell_type": "code",
   "execution_count": 0,
   "metadata": {
    "colab": {},
    "colab_type": "code",
    "id": "XRW7VZ4AHglc"
   },
   "outputs": [],
   "source": [
    "y_train = df_final_train.indicator_link\n",
    "y_test = df_final_test.indicator_link"
   ]
  },
  {
   "cell_type": "code",
   "execution_count": 0,
   "metadata": {
    "colab": {},
    "colab_type": "code",
    "id": "4lj9M_qtHglf"
   },
   "outputs": [],
   "source": [
    "df_final_train.drop(['source_node', 'destination_node','indicator_link'],axis=1,inplace=True)\n",
    "df_final_test.drop(['source_node', 'destination_node','indicator_link'],axis=1,inplace=True)"
   ]
  },
  {
   "cell_type": "code",
   "execution_count": 0,
   "metadata": {
    "colab": {
     "base_uri": "https://localhost:8080/",
     "height": 402
    },
    "colab_type": "code",
    "id": "lIEc91uVHgli",
    "outputId": "d3a34adb-4a84-451c-e9c5-04f4f40e9c19"
   },
   "outputs": [
    {
     "name": "stdout",
     "output_type": "stream",
     "text": [
      "Estimators =  10 Train Score 0.9195294117647059 test Score 0.9001406469760901\n",
      "Estimators =  50 Train Score 0.924841854736007 test Score 0.9141449834029339\n",
      "Estimators =  100 Train Score 0.9257392157476699 test Score 0.9247316390173533\n",
      "Estimators =  250 Train Score 0.9237657864523536 test Score 0.9231422144888172\n",
      "Estimators =  450 Train Score 0.9244627219305478 test Score 0.9235274147003905\n"
     ]
    },
    {
     "data": {
      "text/plain": [
       "Text(0.5, 1.0, 'Estimators vs score at depth of 5')"
      ]
     },
     "execution_count": 8,
     "metadata": {
      "tags": []
     },
     "output_type": "execute_result"
    },
    {
     "data": {
      "image/png": "[encoded data removed]",
      "text/plain": [
       "<Figure size 432x288 with 1 Axes>"
      ]
     },
     "metadata": {
      "tags": []
     },
     "output_type": "display_data"
    }
   ],
   "source": [
    "estimators = [10,50,100,250,450]\n",
    "train_scores = []\n",
    "test_scores = []\n",
    "for i in estimators:\n",
    "    clf = RandomForestClassifier(bootstrap=True, class_weight=None, criterion='gini',\n",
    "            max_depth=5, max_features='auto', max_leaf_nodes=None,\n",
    "            min_impurity_decrease=0.0, min_impurity_split=None,\n",
    "            min_samples_leaf=52, min_samples_split=120,\n",
    "            min_weight_fraction_leaf=0.0, n_estimators=i, n_jobs=-1,random_state=25,verbose=0,warm_start=False)\n",
    "    clf.fit(df_final_train,y_train)\n",
    "    train_sc = f1_score(y_train,clf.predict(df_final_train))\n",
    "    test_sc = f1_score(y_test,clf.predict(df_final_test))\n",
    "    test_scores.append(test_sc)\n",
    "    train_scores.append(train_sc)\n",
    "    print('Estimators = ',i,'Train Score',train_sc,'test Score',test_sc)\n",
    "plt.plot(estimators,train_scores,label='Train Score')\n",
    "plt.plot(estimators,test_scores,label='Test Score')\n",
    "plt.xlabel('Estimators')\n",
    "plt.ylabel('Score')\n",
    "plt.title('Estimators vs score at depth of 5')"
   ]
  },
  {
   "cell_type": "code",
   "execution_count": 0,
   "metadata": {
    "colab": {
     "base_uri": "https://localhost:8080/",
     "height": 456
    },
    "colab_type": "code",
    "id": "nZxhrTdQHglm",
    "outputId": "2bb767ca-a8a6-43f2-b730-308a96655226"
   },
   "outputs": [
    {
     "name": "stdout",
     "output_type": "stream",
     "text": [
      "depth =  3 Train Score 0.8743995388458335 test Score 0.8690656982502477\n",
      "depth =  9 Train Score 0.9582098640146134 test Score 0.9281463755532495\n",
      "depth =  11 Train Score 0.9613158696314347 test Score 0.928462386566025\n",
      "depth =  15 Train Score 0.9629952641239644 test Score 0.9292089808552589\n",
      "depth =  20 Train Score 0.963509568602011 test Score 0.9293254758977403\n",
      "depth =  35 Train Score 0.9633880501678005 test Score 0.9291438748250859\n",
      "depth =  50 Train Score 0.9633880501678005 test Score 0.9291438748250859\n",
      "depth =  70 Train Score 0.9633880501678005 test Score 0.9291438748250859\n",
      "depth =  130 Train Score 0.9633880501678005 test Score 0.9291438748250859\n"
     ]
    },
    {
     "data": {
      "image/png": "[encoded data removed]",
      "text/plain": [
       "<Figure size 432x288 with 1 Axes>"
      ]
     },
     "metadata": {
      "tags": []
     },
     "output_type": "display_data"
    }
   ],
   "source": [
    "depths = [3,9,11,15,20,35,50,70,130]\n",
    "train_scores = []\n",
    "test_scores = []\n",
    "for i in depths:\n",
    "    clf = RandomForestClassifier(bootstrap=True, class_weight=None, criterion='gini',\n",
    "            max_depth=i, max_features='auto', max_leaf_nodes=None,\n",
    "            min_impurity_decrease=0.0, min_impurity_split=None,\n",
    "            min_samples_leaf=52, min_samples_split=120,\n",
    "            min_weight_fraction_leaf=0.0, n_estimators=115, n_jobs=-1,random_state=25,verbose=0,warm_start=False)\n",
    "    clf.fit(df_final_train,y_train)\n",
    "    train_sc = f1_score(y_train,clf.predict(df_final_train))\n",
    "    test_sc = f1_score(y_test,clf.predict(df_final_test))\n",
    "    test_scores.append(test_sc)\n",
    "    train_scores.append(train_sc)\n",
    "    print('depth = ',i,'Train Score',train_sc,'test Score',test_sc)\n",
    "plt.plot(depths,train_scores,label='Train Score')\n",
    "plt.plot(depths,test_scores,label='Test Score')\n",
    "plt.xlabel('Depth')\n",
    "plt.ylabel('Score')\n",
    "plt.title('Depth vs score at depth of 5 at estimators = 115')\n",
    "plt.show()"
   ]
  },
  {
   "cell_type": "code",
   "execution_count": 0,
   "metadata": {
    "colab": {
     "base_uri": "https://localhost:8080/",
     "height": 53
    },
    "colab_type": "code",
    "id": "MrG1Lfl3Hglq",
    "outputId": "d34c5257-614d-42a9-923d-7fa87b4313ec"
   },
   "outputs": [
    {
     "name": "stdout",
     "output_type": "stream",
     "text": [
      "mean test scores [0.96249309 0.96201872 0.95991506 0.96170792 0.96397655]\n",
      "mean train scores [0.96339559 0.96269922 0.96055738 0.96255564 0.9649503 ]\n"
     ]
    }
   ],
   "source": [
    "from sklearn.metrics import f1_score\n",
    "from sklearn.ensemble import RandomForestClassifier\n",
    "from sklearn.metrics import f1_score\n",
    "from sklearn.model_selection import RandomizedSearchCV\n",
    "from scipy.stats import randint as sp_randint\n",
    "from scipy.stats import uniform\n",
    "\n",
    "param_dist = {\"n_estimators\":sp_randint(105,125),\n",
    "              \"max_depth\": sp_randint(10,15),\n",
    "              \"min_samples_split\": sp_randint(110,190),\n",
    "              \"min_samples_leaf\": sp_randint(25,65)}\n",
    "\n",
    "clf = RandomForestClassifier(random_state=25,n_jobs=-1)\n",
    "\n",
    "rf_random = RandomizedSearchCV(clf, param_distributions=param_dist,\n",
    "                                   n_iter=5,cv=10,scoring='f1',random_state=25)\n",
    "\n",
    "rf_random.fit(df_final_train,y_train)\n",
    "print('mean test scores',rf_random.cv_results_['mean_test_score'])\n",
    "print('mean train scores',rf_random.cv_results_['mean_train_score'])"
   ]
  },
  {
   "cell_type": "code",
   "execution_count": 0,
   "metadata": {
    "colab": {
     "base_uri": "https://localhost:8080/",
     "height": 124
    },
    "colab_type": "code",
    "id": "hme3j_diHglu",
    "outputId": "72765b49-f8dc-43d7-f74c-6e7f3555d7cf"
   },
   "outputs": [
    {
     "name": "stdout",
     "output_type": "stream",
     "text": [
      "RandomForestClassifier(bootstrap=True, class_weight=None, criterion='gini',\n",
      "            max_depth=14, max_features='auto', max_leaf_nodes=None,\n",
      "            min_impurity_decrease=0.0, min_impurity_split=None,\n",
      "            min_samples_leaf=28, min_samples_split=111,\n",
      "            min_weight_fraction_leaf=0.0, n_estimators=121, n_jobs=-1,\n",
      "            oob_score=False, random_state=25, verbose=0, warm_start=False)\n"
     ]
    }
   ],
   "source": [
    "print(rf_random.best_estimator_)"
   ]
  },
  {
   "cell_type": "code",
   "execution_count": 0,
   "metadata": {
    "colab": {},
    "colab_type": "code",
    "id": "qu4KIEweHglx"
   },
   "outputs": [],
   "source": [
    "clf = RandomForestClassifier(bootstrap=True, class_weight=None, criterion='gini',\n",
    "            max_depth=14, max_features='auto', max_leaf_nodes=None,\n",
    "            min_impurity_decrease=0.0, min_impurity_split=None,\n",
    "            min_samples_leaf=28, min_samples_split=111,\n",
    "            min_weight_fraction_leaf=0.0, n_estimators=121, n_jobs=-1,\n",
    "            oob_score=False, random_state=25, verbose=0, warm_start=False)"
   ]
  },
  {
   "cell_type": "code",
   "execution_count": 0,
   "metadata": {
    "colab": {},
    "colab_type": "code",
    "id": "Dax83GfLHgl1"
   },
   "outputs": [],
   "source": [
    "clf.fit(df_final_train,y_train)\n",
    "y_train_pred = clf.predict(df_final_train)\n",
    "y_test_pred = clf.predict(df_final_test)"
   ]
  },
  {
   "cell_type": "code",
   "execution_count": 0,
   "metadata": {
    "colab": {
     "base_uri": "https://localhost:8080/",
     "height": 53
    },
    "colab_type": "code",
    "id": "PTtAp1iTHgl4",
    "outputId": "b9e0e79e-34d6-47b6-93ad-e9c1561d5d67"
   },
   "outputs": [
    {
     "name": "stdout",
     "output_type": "stream",
     "text": [
      "Train f1 score 0.9656262667207134\n",
      "Test f1 score 0.9306276345612065\n"
     ]
    }
   ],
   "source": [
    "from sklearn.metrics import f1_score\n",
    "print('Train f1 score',f1_score(y_train,y_train_pred))\n",
    "print('Test f1 score',f1_score(y_test,y_test_pred))"
   ]
  },
  {
   "cell_type": "code",
   "execution_count": 0,
   "metadata": {
    "colab": {},
    "colab_type": "code",
    "id": "5XfUkZYQHgl7"
   },
   "outputs": [],
   "source": [
    "from sklearn.metrics import confusion_matrix\n",
    "def plot_confusion_matrix(test_y, predict_y):\n",
    "    C = confusion_matrix(test_y, predict_y)\n",
    "    \n",
    "    A =(((C.T)/(C.sum(axis=1))).T)\n",
    "    \n",
    "    B =(C/C.sum(axis=0))\n",
    "    plt.figure(figsize=(20,4))\n",
    "    \n",
    "    labels = [0,1]\n",
    "    # representing A in heatmap format\n",
    "    cmap=sns.light_palette(\"blue\")\n",
    "    plt.subplot(1, 3, 1)\n",
    "    sns.heatmap(C, annot=True, cmap=cmap, fmt=\".3f\", xticklabels=labels, yticklabels=labels)\n",
    "    plt.xlabel('Predicted Class')\n",
    "    plt.ylabel('Original Class')\n",
    "    plt.title(\"Confusion matrix\")\n",
    "    \n",
    "    plt.subplot(1, 3, 2)\n",
    "    sns.heatmap(B, annot=True, cmap=cmap, fmt=\".3f\", xticklabels=labels, yticklabels=labels)\n",
    "    plt.xlabel('Predicted Class')\n",
    "    plt.ylabel('Original Class')\n",
    "    plt.title(\"Precision matrix\")\n",
    "    \n",
    "    plt.subplot(1, 3, 3)\n",
    "    # representing B in heatmap format\n",
    "    sns.heatmap(A, annot=True, cmap=cmap, fmt=\".3f\", xticklabels=labels, yticklabels=labels)\n",
    "    plt.xlabel('Predicted Class')\n",
    "    plt.ylabel('Original Class')\n",
    "    plt.title(\"Recall matrix\")\n",
    "    \n",
    "    plt.show()"
   ]
  },
  {
   "cell_type": "code",
   "execution_count": 0,
   "metadata": {
    "colab": {
     "base_uri": "https://localhost:8080/",
     "height": 609
    },
    "colab_type": "code",
    "id": "s6t11dhTHgl-",
    "outputId": "3d74da5f-7971-4d82-f489-cc086871333d"
   },
   "outputs": [
    {
     "name": "stdout",
     "output_type": "stream",
     "text": [
      "Train confusion_matrix\n"
     ]
    },
    {
     "data": {
      "image/png": "[encoded data removed]",
      "text/plain": [
       "<Figure size 1440x288 with 6 Axes>"
      ]
     },
     "metadata": {
      "tags": []
     },
     "output_type": "display_data"
    },
    {
     "name": "stdout",
     "output_type": "stream",
     "text": [
      "Test confusion_matrix\n"
     ]
    },
    {
     "data": {
      "image/png": "[encoded data removed]",
      "text/plain": [
       "<Figure size 1440x288 with 6 Axes>"
      ]
     },
     "metadata": {
      "tags": []
     },
     "output_type": "display_data"
    }
   ],
   "source": [
    "print('Train confusion_matrix')\n",
    "plot_confusion_matrix(y_train,y_train_pred)\n",
    "print('Test confusion_matrix')\n",
    "plot_confusion_matrix(y_test,y_test_pred)"
   ]
  },
  {
   "cell_type": "code",
   "execution_count": 0,
   "metadata": {
    "colab": {
     "base_uri": "https://localhost:8080/",
     "height": 295
    },
    "colab_type": "code",
    "id": "61TF-VLeHgmD",
    "outputId": "b358064f-08b0-499a-9274-2a181943d823"
   },
   "outputs": [
    {
     "data": {
      "image/png": "[encoded data removed]",
      "text/plain": [
       "<Figure size 432x288 with 1 Axes>"
      ]
     },
     "metadata": {
      "tags": []
     },
     "output_type": "display_data"
    }
   ],
   "source": [
    "from sklearn.metrics import roc_curve, auc\n",
    "fpr,tpr,ths = roc_curve(y_test,y_test_pred)\n",
    "auc_sc = auc(fpr, tpr)\n",
    "plt.plot(fpr, tpr, color='navy',label='ROC curve (area = %0.2f)' % auc_sc)\n",
    "plt.xlabel('False Positive Rate')\n",
    "plt.ylabel('True Positive Rate')\n",
    "plt.title('Receiver operating characteristic with test data')\n",
    "plt.legend()\n",
    "plt.show()"
   ]
  },
  {
   "cell_type": "code",
   "execution_count": 0,
   "metadata": {
    "colab": {
     "base_uri": "https://localhost:8080/",
     "height": 730
    },
    "colab_type": "code",
    "id": "HEZ7uvN6HgmK",
    "outputId": "969b9314-2b0a-4332-d2fd-0824549f9922",
    "scrolled": false
   },
   "outputs": [
    {
     "data": {
      "image/png": "[encoded data removed]",
      "text/plain": [
       "<Figure size 720x864 with 1 Axes>"
      ]
     },
     "metadata": {
      "tags": []
     },
     "output_type": "display_data"
    }
   ],
   "source": [
    "features = df_final_train.columns\n",
    "importances = clf.feature_importances_\n",
    "indices = (np.argsort(importances))[-25:]\n",
    "plt.figure(figsize=(10,12))\n",
    "plt.title('Feature Importances')\n",
    "plt.barh(range(len(indices)), importances[indices], color='r', align='center')\n",
    "plt.yticks(range(len(indices)), [features[i] for i in indices])\n",
    "plt.xlabel('Relative Importance')\n",
    "plt.show()"
   ]
  },
  {
   "cell_type": "markdown",
   "metadata": {
    "colab_type": "text",
    "id": "xdHW32hcHgmN"
   },
   "source": [
    "# Assignments:\n",
    "\n",
    "1. Add another feature called  Preferential Attachment  with followers and followees data of vertex. you can check about Preferential Attachment in below link\n",
    "http://be.amazd.com/link-prediction/ <br>\n",
    "2. Add  feature called svd_dot. you can calculate svd_dot as Dot product between sourse node svd and destination node svd features.  you can read about this in below pdf \n",
    "https://storage.googleapis.com/kaggle-forum-message-attachments/2594/supervised_link_prediction.pdf<br>\n",
    "3. Tune hyperparameters for XG boost with all these features and check the error metric."
   ]
  },
  {
   "cell_type": "code",
   "execution_count": 0,
   "metadata": {
    "colab": {},
    "colab_type": "code",
    "id": "VGxBRbh_zDjt"
   },
   "outputs": [],
   "source": [
    "#reading\n",
    "from pandas import read_hdf\n",
    "df_final_train = read_hdf('storage_sample_stage4.h5', 'train_df',mode='r')\n",
    "df_final_test = read_hdf('storage_sample_stage4.h5', 'test_df',mode='r')"
   ]
  },
  {
   "cell_type": "markdown",
   "metadata": {
    "colab_type": "text",
    "id": "Kz3qwMhun9LP"
   },
   "source": [
    "<h2>Task 1"
   ]
  },
  {
   "cell_type": "code",
   "execution_count": 0,
   "metadata": {
    "colab": {},
    "colab_type": "code",
    "id": "sB0UwQ4nnkF0"
   },
   "outputs": [],
   "source": [
    "def pref_followers(a, b):\n",
    "  \n",
    "    try:\n",
    "    \n",
    "        if len(set(train_graph.predecessors(a))) == 0  | len(set(train_graph.predecessors(b))) == 0:\n",
    "      \n",
    "          return 0\n",
    "    \n",
    "        similarity = (len(set(train_graph.predecessors(a))*(set(train_graph.predecessors(b)))))\n",
    "    \n",
    "        return similarity\n",
    "  \n",
    "    except:\n",
    "    \n",
    "        return 0"
   ]
  },
  {
   "cell_type": "code",
   "execution_count": 0,
   "metadata": {
    "colab": {},
    "colab_type": "code",
    "id": "8fTHztqeoBDv"
   },
   "outputs": [],
   "source": [
    "# Defining Helper function w.r.t followees\n",
    "\n",
    "def pref_followees(a,b):\n",
    "\n",
    "    try:\n",
    "        if len(set(train_graph.successors(a))) == 0  | len(set(train_graph.successors(b))) == 0:\n",
    "          \n",
    "            return 0\n",
    "          \n",
    "        similarity = (len(set(train_graph.successors(a))))*(len(set(train_graph.successors(b))))\n",
    "        \n",
    "        return  similarity\n",
    "  \n",
    "    except:\n",
    "    \n",
    "       return 0"
   ]
  },
  {
   "cell_type": "code",
   "execution_count": 113,
   "metadata": {
    "colab": {
     "base_uri": "https://localhost:8080/",
     "height": 34
    },
    "colab_type": "code",
    "id": "7Q7LmUW_oIXE",
    "outputId": "6a96ab09-1d55-4547-e0bb-1a3587df2828"
   },
   "outputs": [
    {
     "data": {
      "text/plain": [
       "0"
      ]
     },
     "execution_count": 113,
     "metadata": {
      "tags": []
     },
     "output_type": "execute_result"
    }
   ],
   "source": [
    "pref_followees(1,2463)"
   ]
  },
  {
   "cell_type": "code",
   "execution_count": 114,
   "metadata": {
    "colab": {
     "base_uri": "https://localhost:8080/",
     "height": 34
    },
    "colab_type": "code",
    "id": "G55vDzfmsrx8",
    "outputId": "e2c94f7f-2e68-4a4d-a738-a5d4302ce157"
   },
   "outputs": [
    {
     "data": {
      "text/plain": [
       "0"
      ]
     },
     "execution_count": 114,
     "metadata": {
      "tags": []
     },
     "output_type": "execute_result"
    }
   ],
   "source": [
    "pref_followees(1,200)"
   ]
  },
  {
   "cell_type": "code",
   "execution_count": 115,
   "metadata": {
    "colab": {
     "base_uri": "https://localhost:8080/",
     "height": 34
    },
    "colab_type": "code",
    "id": "aoRuYO_GtuFG",
    "outputId": "b256dc48-6891-4f9c-e147-eb1af7f4635e"
   },
   "outputs": [
    {
     "data": {
      "text/plain": [
       "0"
      ]
     },
     "execution_count": 115,
     "metadata": {
      "tags": []
     },
     "output_type": "execute_result"
    }
   ],
   "source": [
    "pref_followees(273084,1505602)"
   ]
  },
  {
   "cell_type": "code",
   "execution_count": 116,
   "metadata": {
    "colab": {
     "base_uri": "https://localhost:8080/",
     "height": 255
    },
    "colab_type": "code",
    "id": "S_IC2l45y3Q8",
    "outputId": "416f3216-47be-40c2-cf39-1cecd8a0b004"
   },
   "outputs": [
    {
     "data": {
      "text/plain": [
       "Index(['source_node', 'destination_node', 'indicator_link',\n",
       "       'jaccard_followers', 'jaccard_followees', 'cosine_followers',\n",
       "       'cosine_followees', 'num_followers_s', 'num_followers_d',\n",
       "       'num_followees_s', 'num_followees_d', 'inter_followers',\n",
       "       'inter_followees', 'adar_index', 'follows_back', 'same_comp',\n",
       "       'shortest_path', 'weight_in', 'weight_out', 'weight_f1', 'weight_f2',\n",
       "       'weight_f3', 'weight_f4', 'page_rank_s', 'page_rank_d', 'katz_s',\n",
       "       'katz_d', 'hubs_s', 'hubs_d', 'authorities_s', 'authorities_d',\n",
       "       'svd_u_s_1', 'svd_u_s_2', 'svd_u_s_3', 'svd_u_s_4', 'svd_u_s_5',\n",
       "       'svd_u_s_6', 'svd_u_d_1', 'svd_u_d_2', 'svd_u_d_3', 'svd_u_d_4',\n",
       "       'svd_u_d_5', 'svd_u_d_6', 'svd_v_s_1', 'svd_v_s_2', 'svd_v_s_3',\n",
       "       'svd_v_s_4', 'svd_v_s_5', 'svd_v_s_6', 'svd_v_d_1', 'svd_v_d_2',\n",
       "       'svd_v_d_3', 'svd_v_d_4', 'svd_v_d_5', 'svd_v_d_6'],\n",
       "      dtype='object')"
      ]
     },
     "execution_count": 116,
     "metadata": {
      "tags": []
     },
     "output_type": "execute_result"
    }
   ],
   "source": [
    "df_final_train.columns"
   ]
  },
  {
   "cell_type": "code",
   "execution_count": 0,
   "metadata": {
    "colab": {},
    "colab_type": "code",
    "id": "KSd3VwajxVt3"
   },
   "outputs": [],
   "source": [
    "df_final_train['preferential_attachment_followers'] = df_final_train.apply(lambda x:pref_followers(x['source_node'],x['destination_node']),axis=1)\n",
    "df_final_test['preferential_attachment_followers'] = df_final_test.apply(lambda x:pref_followers(x['source_node'],x['destination_node']),axis=1)\n",
    "\n",
    "\n",
    "df_final_train['preferential_attachment_followees'] = df_final_train.apply(lambda x:\n",
    "                                            pref_followees(x['source_node'],x['destination_node']),axis=1)\n",
    "df_final_test['preferential_attachment_followees'] = df_final_test.apply(lambda x:\n",
    "                                            pref_followees(x['source_node'],x['destination_node']),axis=1)"
   ]
  },
  {
   "cell_type": "code",
   "execution_count": 118,
   "metadata": {
    "colab": {
     "base_uri": "https://localhost:8080/",
     "height": 309
    },
    "colab_type": "code",
    "id": "KeO8Jh4JzcJT",
    "outputId": "15c08cdc-2638-47f6-fc93-036e2fdd3b8b"
   },
   "outputs": [
    {
     "data": {
      "text/html": [
       "<div>\n",
       "<style scoped>\n",
       "    .dataframe tbody tr th:only-of-type {\n",
       "        vertical-align: middle;\n",
       "    }\n",
       "\n",
       "    .dataframe tbody tr th {\n",
       "        vertical-align: top;\n",
       "    }\n",
       "\n",
       "    .dataframe thead th {\n",
       "        text-align: right;\n",
       "    }\n",
       "</style>\n",
       "<table border=\"1\" class=\"dataframe\">\n",
       "  <thead>\n",
       "    <tr style=\"text-align: right;\">\n",
       "      <th></th>\n",
       "      <th>source_node</th>\n",
       "      <th>destination_node</th>\n",
       "      <th>indicator_link</th>\n",
       "      <th>jaccard_followers</th>\n",
       "      <th>jaccard_followees</th>\n",
       "      <th>cosine_followers</th>\n",
       "      <th>cosine_followees</th>\n",
       "      <th>num_followers_s</th>\n",
       "      <th>num_followers_d</th>\n",
       "      <th>num_followees_s</th>\n",
       "      <th>num_followees_d</th>\n",
       "      <th>inter_followers</th>\n",
       "      <th>inter_followees</th>\n",
       "      <th>adar_index</th>\n",
       "      <th>follows_back</th>\n",
       "      <th>same_comp</th>\n",
       "      <th>shortest_path</th>\n",
       "      <th>weight_in</th>\n",
       "      <th>weight_out</th>\n",
       "      <th>weight_f1</th>\n",
       "      <th>weight_f2</th>\n",
       "      <th>weight_f3</th>\n",
       "      <th>weight_f4</th>\n",
       "      <th>page_rank_s</th>\n",
       "      <th>page_rank_d</th>\n",
       "      <th>katz_s</th>\n",
       "      <th>katz_d</th>\n",
       "      <th>hubs_s</th>\n",
       "      <th>hubs_d</th>\n",
       "      <th>authorities_s</th>\n",
       "      <th>authorities_d</th>\n",
       "      <th>svd_u_s_1</th>\n",
       "      <th>svd_u_s_2</th>\n",
       "      <th>svd_u_s_3</th>\n",
       "      <th>svd_u_s_4</th>\n",
       "      <th>svd_u_s_5</th>\n",
       "      <th>svd_u_s_6</th>\n",
       "      <th>svd_u_d_1</th>\n",
       "      <th>svd_u_d_2</th>\n",
       "      <th>svd_u_d_3</th>\n",
       "      <th>svd_u_d_4</th>\n",
       "      <th>svd_u_d_5</th>\n",
       "      <th>svd_u_d_6</th>\n",
       "      <th>svd_v_s_1</th>\n",
       "      <th>svd_v_s_2</th>\n",
       "      <th>svd_v_s_3</th>\n",
       "      <th>svd_v_s_4</th>\n",
       "      <th>svd_v_s_5</th>\n",
       "      <th>svd_v_s_6</th>\n",
       "      <th>svd_v_d_1</th>\n",
       "      <th>svd_v_d_2</th>\n",
       "      <th>svd_v_d_3</th>\n",
       "      <th>svd_v_d_4</th>\n",
       "      <th>svd_v_d_5</th>\n",
       "      <th>svd_v_d_6</th>\n",
       "      <th>preferential_attachment_followers</th>\n",
       "      <th>preferential_attachment_followees</th>\n",
       "    </tr>\n",
       "  </thead>\n",
       "  <tbody>\n",
       "    <tr>\n",
       "      <th>0</th>\n",
       "      <td>273084</td>\n",
       "      <td>1505602</td>\n",
       "      <td>1</td>\n",
       "      <td>0</td>\n",
       "      <td>0.000000</td>\n",
       "      <td>0.000000</td>\n",
       "      <td>0.000000</td>\n",
       "      <td>11</td>\n",
       "      <td>6</td>\n",
       "      <td>15</td>\n",
       "      <td>8</td>\n",
       "      <td>0</td>\n",
       "      <td>0</td>\n",
       "      <td>0.000000</td>\n",
       "      <td>0</td>\n",
       "      <td>1</td>\n",
       "      <td>4</td>\n",
       "      <td>0.377964</td>\n",
       "      <td>0.250000</td>\n",
       "      <td>0.627964</td>\n",
       "      <td>0.094491</td>\n",
       "      <td>1.005929</td>\n",
       "      <td>0.877964</td>\n",
       "      <td>2.045290e-06</td>\n",
       "      <td>3.459963e-07</td>\n",
       "      <td>0.000773</td>\n",
       "      <td>0.000756</td>\n",
       "      <td>1.943132e-13</td>\n",
       "      <td>1.941103e-13</td>\n",
       "      <td>9.226339e-16</td>\n",
       "      <td>2.231877e-15</td>\n",
       "      <td>-1.666309e-13</td>\n",
       "      <td>4.613835e-13</td>\n",
       "      <td>1.043033e-05</td>\n",
       "      <td>6.678002e-13</td>\n",
       "      <td>2.451089e-13</td>\n",
       "      <td>3.584945e-12</td>\n",
       "      <td>-2.038018e-11</td>\n",
       "      <td>5.397949e-13</td>\n",
       "      <td>1.068942e-06</td>\n",
       "      <td>1.192461e-12</td>\n",
       "      <td>2.279492e-12</td>\n",
       "      <td>3.581202e-12</td>\n",
       "      <td>-7.215571e-13</td>\n",
       "      <td>3.926176e-13</td>\n",
       "      <td>1.983698e-06</td>\n",
       "      <td>1.545074e-13</td>\n",
       "      <td>8.108186e-13</td>\n",
       "      <td>1.719701e-14</td>\n",
       "      <td>-1.355367e-12</td>\n",
       "      <td>4.675361e-13</td>\n",
       "      <td>1.128585e-06</td>\n",
       "      <td>6.616688e-14</td>\n",
       "      <td>9.771092e-13</td>\n",
       "      <td>4.160011e-14</td>\n",
       "      <td>0</td>\n",
       "      <td>0</td>\n",
       "    </tr>\n",
       "    <tr>\n",
       "      <th>1</th>\n",
       "      <td>1295556</td>\n",
       "      <td>963526</td>\n",
       "      <td>1</td>\n",
       "      <td>0</td>\n",
       "      <td>0.000000</td>\n",
       "      <td>0.000000</td>\n",
       "      <td>0.000000</td>\n",
       "      <td>9</td>\n",
       "      <td>27</td>\n",
       "      <td>131</td>\n",
       "      <td>32</td>\n",
       "      <td>0</td>\n",
       "      <td>0</td>\n",
       "      <td>0.000000</td>\n",
       "      <td>0</td>\n",
       "      <td>1</td>\n",
       "      <td>3</td>\n",
       "      <td>0.188982</td>\n",
       "      <td>0.087039</td>\n",
       "      <td>0.276021</td>\n",
       "      <td>0.016449</td>\n",
       "      <td>0.465003</td>\n",
       "      <td>0.363060</td>\n",
       "      <td>3.058381e-07</td>\n",
       "      <td>8.828118e-07</td>\n",
       "      <td>0.000770</td>\n",
       "      <td>0.000842</td>\n",
       "      <td>5.300310e-13</td>\n",
       "      <td>2.342071e-15</td>\n",
       "      <td>1.019989e-14</td>\n",
       "      <td>1.090069e-14</td>\n",
       "      <td>-3.337605e-10</td>\n",
       "      <td>4.162595e-11</td>\n",
       "      <td>7.708635e-05</td>\n",
       "      <td>1.470892e-10</td>\n",
       "      <td>1.515475e-10</td>\n",
       "      <td>9.778703e-12</td>\n",
       "      <td>-9.740870e-13</td>\n",
       "      <td>7.573338e-12</td>\n",
       "      <td>1.756115e-06</td>\n",
       "      <td>6.388703e-13</td>\n",
       "      <td>2.164448e-11</td>\n",
       "      <td>4.320861e-14</td>\n",
       "      <td>-5.618920e-12</td>\n",
       "      <td>1.571062e-12</td>\n",
       "      <td>6.914455e-06</td>\n",
       "      <td>1.733208e-12</td>\n",
       "      <td>3.323972e-12</td>\n",
       "      <td>1.901158e-13</td>\n",
       "      <td>-5.964949e-12</td>\n",
       "      <td>3.005636e-12</td>\n",
       "      <td>2.541620e-06</td>\n",
       "      <td>5.606016e-12</td>\n",
       "      <td>1.995030e-12</td>\n",
       "      <td>2.031787e-13</td>\n",
       "      <td>0</td>\n",
       "      <td>0</td>\n",
       "    </tr>\n",
       "    <tr>\n",
       "      <th>2</th>\n",
       "      <td>862038</td>\n",
       "      <td>779418</td>\n",
       "      <td>1</td>\n",
       "      <td>0</td>\n",
       "      <td>0.266667</td>\n",
       "      <td>0.176383</td>\n",
       "      <td>0.426401</td>\n",
       "      <td>7</td>\n",
       "      <td>15</td>\n",
       "      <td>11</td>\n",
       "      <td>8</td>\n",
       "      <td>7</td>\n",
       "      <td>4</td>\n",
       "      <td>3.543179</td>\n",
       "      <td>0</td>\n",
       "      <td>1</td>\n",
       "      <td>2</td>\n",
       "      <td>0.250000</td>\n",
       "      <td>0.288675</td>\n",
       "      <td>0.538675</td>\n",
       "      <td>0.072169</td>\n",
       "      <td>0.788675</td>\n",
       "      <td>0.827350</td>\n",
       "      <td>4.136740e-07</td>\n",
       "      <td>7.269774e-07</td>\n",
       "      <td>0.000758</td>\n",
       "      <td>0.000789</td>\n",
       "      <td>4.915683e-18</td>\n",
       "      <td>3.280271e-18</td>\n",
       "      <td>2.078865e-19</td>\n",
       "      <td>4.786083e-19</td>\n",
       "      <td>-1.553796e-14</td>\n",
       "      <td>2.865015e-14</td>\n",
       "      <td>3.538424e-14</td>\n",
       "      <td>2.335941e-14</td>\n",
       "      <td>2.513134e-13</td>\n",
       "      <td>9.091663e-17</td>\n",
       "      <td>-1.036918e-14</td>\n",
       "      <td>1.910879e-14</td>\n",
       "      <td>2.480828e-14</td>\n",
       "      <td>1.563863e-14</td>\n",
       "      <td>1.649727e-13</td>\n",
       "      <td>6.057586e-17</td>\n",
       "      <td>-9.483942e-16</td>\n",
       "      <td>1.719484e-15</td>\n",
       "      <td>2.115475e-15</td>\n",
       "      <td>1.346589e-15</td>\n",
       "      <td>1.206546e-14</td>\n",
       "      <td>3.881597e-18</td>\n",
       "      <td>-2.165889e-15</td>\n",
       "      <td>3.917872e-15</td>\n",
       "      <td>4.776554e-15</td>\n",
       "      <td>3.067890e-15</td>\n",
       "      <td>1.871779e-13</td>\n",
       "      <td>8.936328e-18</td>\n",
       "      <td>0</td>\n",
       "      <td>0</td>\n",
       "    </tr>\n",
       "    <tr>\n",
       "      <th>3</th>\n",
       "      <td>979441</td>\n",
       "      <td>894746</td>\n",
       "      <td>1</td>\n",
       "      <td>0</td>\n",
       "      <td>0.000000</td>\n",
       "      <td>0.000000</td>\n",
       "      <td>0.000000</td>\n",
       "      <td>21</td>\n",
       "      <td>32</td>\n",
       "      <td>15</td>\n",
       "      <td>32</td>\n",
       "      <td>0</td>\n",
       "      <td>0</td>\n",
       "      <td>0.000000</td>\n",
       "      <td>1</td>\n",
       "      <td>1</td>\n",
       "      <td>3</td>\n",
       "      <td>0.174078</td>\n",
       "      <td>0.250000</td>\n",
       "      <td>0.424078</td>\n",
       "      <td>0.043519</td>\n",
       "      <td>0.598155</td>\n",
       "      <td>0.674078</td>\n",
       "      <td>1.274879e-06</td>\n",
       "      <td>2.275377e-06</td>\n",
       "      <td>0.000814</td>\n",
       "      <td>0.000858</td>\n",
       "      <td>9.826551e-16</td>\n",
       "      <td>2.177103e-15</td>\n",
       "      <td>5.492530e-15</td>\n",
       "      <td>8.431883e-15</td>\n",
       "      <td>-5.318472e-13</td>\n",
       "      <td>2.409192e-10</td>\n",
       "      <td>7.024101e-11</td>\n",
       "      <td>3.697509e-11</td>\n",
       "      <td>7.936406e-11</td>\n",
       "      <td>1.812921e-14</td>\n",
       "      <td>-2.170187e-11</td>\n",
       "      <td>3.698640e-11</td>\n",
       "      <td>5.690156e-09</td>\n",
       "      <td>2.896856e-11</td>\n",
       "      <td>5.776897e-11</td>\n",
       "      <td>4.016578e-14</td>\n",
       "      <td>-5.817820e-12</td>\n",
       "      <td>1.634761e-11</td>\n",
       "      <td>1.483481e-09</td>\n",
       "      <td>3.915119e-11</td>\n",
       "      <td>5.651652e-11</td>\n",
       "      <td>1.023756e-13</td>\n",
       "      <td>-5.594587e-12</td>\n",
       "      <td>4.915916e-10</td>\n",
       "      <td>5.337793e-10</td>\n",
       "      <td>1.611741e-11</td>\n",
       "      <td>2.631428e-10</td>\n",
       "      <td>1.571624e-13</td>\n",
       "      <td>0</td>\n",
       "      <td>0</td>\n",
       "    </tr>\n",
       "    <tr>\n",
       "      <th>4</th>\n",
       "      <td>1088526</td>\n",
       "      <td>99070</td>\n",
       "      <td>1</td>\n",
       "      <td>0</td>\n",
       "      <td>0.027778</td>\n",
       "      <td>0.038490</td>\n",
       "      <td>0.062994</td>\n",
       "      <td>27</td>\n",
       "      <td>10</td>\n",
       "      <td>28</td>\n",
       "      <td>9</td>\n",
       "      <td>2</td>\n",
       "      <td>1</td>\n",
       "      <td>0.676992</td>\n",
       "      <td>1</td>\n",
       "      <td>1</td>\n",
       "      <td>2</td>\n",
       "      <td>0.301511</td>\n",
       "      <td>0.185695</td>\n",
       "      <td>0.487207</td>\n",
       "      <td>0.055989</td>\n",
       "      <td>0.788718</td>\n",
       "      <td>0.672902</td>\n",
       "      <td>2.021736e-06</td>\n",
       "      <td>1.614656e-06</td>\n",
       "      <td>0.000837</td>\n",
       "      <td>0.000770</td>\n",
       "      <td>6.160798e-16</td>\n",
       "      <td>2.632996e-16</td>\n",
       "      <td>5.674428e-16</td>\n",
       "      <td>2.633843e-16</td>\n",
       "      <td>-2.234400e-11</td>\n",
       "      <td>1.312866e-11</td>\n",
       "      <td>1.377257e-10</td>\n",
       "      <td>6.628748e-13</td>\n",
       "      <td>2.808901e-12</td>\n",
       "      <td>1.136628e-14</td>\n",
       "      <td>-2.775996e-11</td>\n",
       "      <td>4.918542e-10</td>\n",
       "      <td>4.220389e-11</td>\n",
       "      <td>4.723662e-12</td>\n",
       "      <td>7.583023e-11</td>\n",
       "      <td>4.857691e-15</td>\n",
       "      <td>-1.015052e-11</td>\n",
       "      <td>1.874409e-11</td>\n",
       "      <td>4.743309e-11</td>\n",
       "      <td>1.947993e-12</td>\n",
       "      <td>4.150070e-12</td>\n",
       "      <td>1.057661e-14</td>\n",
       "      <td>-7.046255e-13</td>\n",
       "      <td>1.093858e-11</td>\n",
       "      <td>1.137450e-11</td>\n",
       "      <td>3.289914e-14</td>\n",
       "      <td>8.590561e-13</td>\n",
       "      <td>4.909247e-15</td>\n",
       "      <td>0</td>\n",
       "      <td>0</td>\n",
       "    </tr>\n",
       "  </tbody>\n",
       "</table>\n",
       "</div>"
      ],
      "text/plain": [
       "   source_node  ...  preferential_attachment_followees\n",
       "0       273084  ...                                  0\n",
       "1      1295556  ...                                  0\n",
       "2       862038  ...                                  0\n",
       "3       979441  ...                                  0\n",
       "4      1088526  ...                                  0\n",
       "\n",
       "[5 rows x 57 columns]"
      ]
     },
     "execution_count": 118,
     "metadata": {
      "tags": []
     },
     "output_type": "execute_result"
    }
   ],
   "source": [
    "df_final_train.head()"
   ]
  },
  {
   "cell_type": "code",
   "execution_count": 119,
   "metadata": {
    "colab": {
     "base_uri": "https://localhost:8080/",
     "height": 51
    },
    "colab_type": "code",
    "id": "QxS4303_zhKw",
    "outputId": "4247fe42-a5c3-42f0-efd6-e1a30769e526"
   },
   "outputs": [
    {
     "data": {
      "text/plain": [
       "0    100002\n",
       "Name: preferential_attachment_followees, dtype: int64"
      ]
     },
     "execution_count": 119,
     "metadata": {
      "tags": []
     },
     "output_type": "execute_result"
    }
   ],
   "source": [
    "df_final_train[\"preferential_attachment_followees\"].value_counts()"
   ]
  },
  {
   "cell_type": "code",
   "execution_count": 120,
   "metadata": {
    "colab": {
     "base_uri": "https://localhost:8080/",
     "height": 51
    },
    "colab_type": "code",
    "id": "7tMTFi2Azl0e",
    "outputId": "d7b3b14e-40d7-4a26-caa7-2db346769d33"
   },
   "outputs": [
    {
     "data": {
      "text/plain": [
       "0    100002\n",
       "Name: preferential_attachment_followers, dtype: int64"
      ]
     },
     "execution_count": 120,
     "metadata": {
      "tags": []
     },
     "output_type": "execute_result"
    }
   ],
   "source": [
    "df_final_train[\"preferential_attachment_followers\"].value_counts()"
   ]
  },
  {
   "cell_type": "markdown",
   "metadata": {
    "colab_type": "text",
    "id": "B9w12B8dzxpa"
   },
   "source": [
    "from the above results using above feature ...we cant obtain frnd recomendation ...if we observe we had all values as zero...so this might not be useful...........we can infer from this that ..............consider two person a,b who had max no. of frnds there least possibility that a and b can be frnds"
   ]
  },
  {
   "cell_type": "code",
   "execution_count": 121,
   "metadata": {
    "colab": {
     "base_uri": "https://localhost:8080/",
     "height": 34
    },
    "colab_type": "code",
    "id": "hfitGWzTzqQs",
    "outputId": "2b96a3db-7e93-4475-bba0-24d85ef77cf0"
   },
   "outputs": [
    {
     "data": {
      "text/plain": [
       "(100002, 57)"
      ]
     },
     "execution_count": 121,
     "metadata": {
      "tags": []
     },
     "output_type": "execute_result"
    }
   ],
   "source": [
    "df_final_train.shape"
   ]
  },
  {
   "cell_type": "code",
   "execution_count": 131,
   "metadata": {
    "colab": {
     "base_uri": "https://localhost:8080/",
     "height": 289
    },
    "colab_type": "code",
    "id": "1OeSVD4PsNgW",
    "outputId": "308aadd1-c64b-4925-f937-0b6f2f2acbc7"
   },
   "outputs": [
    {
     "data": {
      "text/plain": [
       "Index(['source_node', 'destination_node', 'indicator_link',\n",
       "       'jaccard_followers', 'jaccard_followees', 'cosine_followers',\n",
       "       'cosine_followees', 'num_followers_s', 'num_followers_d',\n",
       "       'num_followees_s', 'num_followees_d', 'inter_followers',\n",
       "       'inter_followees', 'adar_index', 'follows_back', 'same_comp',\n",
       "       'shortest_path', 'weight_in', 'weight_out', 'weight_f1', 'weight_f2',\n",
       "       'weight_f3', 'weight_f4', 'page_rank_s', 'page_rank_d', 'katz_s',\n",
       "       'katz_d', 'hubs_s', 'hubs_d', 'authorities_s', 'authorities_d',\n",
       "       'svd_u_s_1', 'svd_u_s_2', 'svd_u_s_3', 'svd_u_s_4', 'svd_u_s_5',\n",
       "       'svd_u_s_6', 'svd_u_d_1', 'svd_u_d_2', 'svd_u_d_3', 'svd_u_d_4',\n",
       "       'svd_u_d_5', 'svd_u_d_6', 'svd_v_s_1', 'svd_v_s_2', 'svd_v_s_3',\n",
       "       'svd_v_s_4', 'svd_v_s_5', 'svd_v_s_6', 'svd_v_d_1', 'svd_v_d_2',\n",
       "       'svd_v_d_3', 'svd_v_d_4', 'svd_v_d_5', 'svd_v_d_6',\n",
       "       'preferential_attachment_followers',\n",
       "       'preferential_attachment_followees'],\n",
       "      dtype='object')"
      ]
     },
     "execution_count": 131,
     "metadata": {
      "tags": []
     },
     "output_type": "execute_result"
    }
   ],
   "source": [
    "df_final_train.columns"
   ]
  },
  {
   "cell_type": "markdown",
   "metadata": {
    "colab_type": "text",
    "id": "iKIkB4sfxx7n"
   },
   "source": [
    "<h3>task 2"
   ]
  },
  {
   "cell_type": "code",
   "execution_count": 0,
   "metadata": {
    "colab": {},
    "colab_type": "code",
    "id": "UxtlRvDR538y"
   },
   "outputs": [],
   "source": [
    "df_final_train['source_dot']=((df_final_train['svd_u_s_1']*df_final_train['svd_u_d_1'])+(df_final_train['svd_u_s_2']*df_final_train['svd_u_d_2'])+(df_final_train['svd_u_s_3']*df_final_train['svd_u_d_3'])+(df_final_train['svd_u_s_4']*df_final_train['svd_u_d_4'])+(df_final_train['svd_u_s_5']*df_final_train['svd_u_d_5'])+(df_final_train['svd_u_s_6']*df_final_train['svd_u_d_6']))"
   ]
  },
  {
   "cell_type": "code",
   "execution_count": 0,
   "metadata": {
    "colab": {},
    "colab_type": "code",
    "id": "1PJv3R1k7XDu"
   },
   "outputs": [],
   "source": [
    "df_final_train['destina_dot']=((df_final_train['svd_v_s_1']*df_final_train['svd_v_d_1'])+(df_final_train['svd_v_s_2']*df_final_train['svd_v_d_2'])+(df_final_train['svd_v_s_3']*df_final_train['svd_v_d_3'])+(df_final_train['svd_v_s_4']*df_final_train['svd_v_d_4'])+(df_final_train['svd_v_s_5']*df_final_train['svd_v_d_5'])+(df_final_train['svd_v_s_6']*df_final_train['svd_v_d_6']))"
   ]
  },
  {
   "cell_type": "code",
   "execution_count": 0,
   "metadata": {
    "colab": {},
    "colab_type": "code",
    "id": "D0DXEhr779VJ"
   },
   "outputs": [],
   "source": [
    "df_final_test['source_dot']=((df_final_test['svd_u_s_1']*df_final_test['svd_u_d_1'])+(df_final_test['svd_u_s_2']*df_final_test['svd_u_d_2'])+(df_final_test['svd_u_s_3']*df_final_test['svd_u_d_3'])+(df_final_test['svd_u_s_4']*df_final_test['svd_u_d_4'])+(df_final_test['svd_u_s_5']*df_final_test['svd_u_d_5'])+(df_final_test['svd_u_s_6']*df_final_test['svd_u_d_6']))"
   ]
  },
  {
   "cell_type": "code",
   "execution_count": 0,
   "metadata": {
    "colab": {},
    "colab_type": "code",
    "id": "mIafLFMJ8k6J"
   },
   "outputs": [],
   "source": [
    "df_final_test['destina_dot']=((df_final_test['svd_v_s_1']*df_final_test['svd_v_d_1'])+(df_final_test['svd_v_s_2']*df_final_test['svd_v_d_2'])+(df_final_test['svd_v_s_3']*df_final_test['svd_v_d_3'])+(df_final_test['svd_v_s_4']*df_final_test['svd_v_d_4'])+(df_final_test['svd_v_s_5']*df_final_test['svd_v_d_5'])+(df_final_test['svd_v_s_6']*df_final_test['svd_v_d_6']))"
   ]
  },
  {
   "cell_type": "code",
   "execution_count": 155,
   "metadata": {
    "colab": {
     "base_uri": "https://localhost:8080/",
     "height": 309
    },
    "colab_type": "code",
    "id": "jOMjNg8u7J12",
    "outputId": "339cf2e9-6768-491e-c864-8a5636a98e2b"
   },
   "outputs": [
    {
     "data": {
      "text/html": [
       "<div>\n",
       "<style scoped>\n",
       "    .dataframe tbody tr th:only-of-type {\n",
       "        vertical-align: middle;\n",
       "    }\n",
       "\n",
       "    .dataframe tbody tr th {\n",
       "        vertical-align: top;\n",
       "    }\n",
       "\n",
       "    .dataframe thead th {\n",
       "        text-align: right;\n",
       "    }\n",
       "</style>\n",
       "<table border=\"1\" class=\"dataframe\">\n",
       "  <thead>\n",
       "    <tr style=\"text-align: right;\">\n",
       "      <th></th>\n",
       "      <th>source_node</th>\n",
       "      <th>destination_node</th>\n",
       "      <th>indicator_link</th>\n",
       "      <th>jaccard_followers</th>\n",
       "      <th>jaccard_followees</th>\n",
       "      <th>cosine_followers</th>\n",
       "      <th>cosine_followees</th>\n",
       "      <th>num_followers_s</th>\n",
       "      <th>num_followers_d</th>\n",
       "      <th>num_followees_s</th>\n",
       "      <th>num_followees_d</th>\n",
       "      <th>inter_followers</th>\n",
       "      <th>inter_followees</th>\n",
       "      <th>adar_index</th>\n",
       "      <th>follows_back</th>\n",
       "      <th>same_comp</th>\n",
       "      <th>shortest_path</th>\n",
       "      <th>weight_in</th>\n",
       "      <th>weight_out</th>\n",
       "      <th>weight_f1</th>\n",
       "      <th>weight_f2</th>\n",
       "      <th>weight_f3</th>\n",
       "      <th>weight_f4</th>\n",
       "      <th>page_rank_s</th>\n",
       "      <th>page_rank_d</th>\n",
       "      <th>katz_s</th>\n",
       "      <th>katz_d</th>\n",
       "      <th>hubs_s</th>\n",
       "      <th>hubs_d</th>\n",
       "      <th>authorities_s</th>\n",
       "      <th>authorities_d</th>\n",
       "      <th>svd_u_s_1</th>\n",
       "      <th>svd_u_s_2</th>\n",
       "      <th>svd_u_s_3</th>\n",
       "      <th>svd_u_s_4</th>\n",
       "      <th>svd_u_s_5</th>\n",
       "      <th>svd_u_s_6</th>\n",
       "      <th>svd_u_d_1</th>\n",
       "      <th>svd_u_d_2</th>\n",
       "      <th>svd_u_d_3</th>\n",
       "      <th>svd_u_d_4</th>\n",
       "      <th>svd_u_d_5</th>\n",
       "      <th>svd_u_d_6</th>\n",
       "      <th>svd_v_s_1</th>\n",
       "      <th>svd_v_s_2</th>\n",
       "      <th>svd_v_s_3</th>\n",
       "      <th>svd_v_s_4</th>\n",
       "      <th>svd_v_s_5</th>\n",
       "      <th>svd_v_s_6</th>\n",
       "      <th>svd_v_d_1</th>\n",
       "      <th>svd_v_d_2</th>\n",
       "      <th>svd_v_d_3</th>\n",
       "      <th>svd_v_d_4</th>\n",
       "      <th>svd_v_d_5</th>\n",
       "      <th>svd_v_d_6</th>\n",
       "      <th>preferential_attachment_followers</th>\n",
       "      <th>preferential_attachment_followees</th>\n",
       "      <th>source_dot</th>\n",
       "      <th>destina_dot</th>\n",
       "    </tr>\n",
       "  </thead>\n",
       "  <tbody>\n",
       "    <tr>\n",
       "      <th>0</th>\n",
       "      <td>273084</td>\n",
       "      <td>1505602</td>\n",
       "      <td>1</td>\n",
       "      <td>0</td>\n",
       "      <td>0.000000</td>\n",
       "      <td>0.000000</td>\n",
       "      <td>0.000000</td>\n",
       "      <td>11</td>\n",
       "      <td>6</td>\n",
       "      <td>15</td>\n",
       "      <td>8</td>\n",
       "      <td>0</td>\n",
       "      <td>0</td>\n",
       "      <td>0.000000</td>\n",
       "      <td>0</td>\n",
       "      <td>1</td>\n",
       "      <td>4</td>\n",
       "      <td>0.377964</td>\n",
       "      <td>0.250000</td>\n",
       "      <td>0.627964</td>\n",
       "      <td>0.094491</td>\n",
       "      <td>1.005929</td>\n",
       "      <td>0.877964</td>\n",
       "      <td>2.045290e-06</td>\n",
       "      <td>3.459963e-07</td>\n",
       "      <td>0.000773</td>\n",
       "      <td>0.000756</td>\n",
       "      <td>1.943132e-13</td>\n",
       "      <td>1.941103e-13</td>\n",
       "      <td>9.226339e-16</td>\n",
       "      <td>2.231877e-15</td>\n",
       "      <td>-1.666309e-13</td>\n",
       "      <td>4.613835e-13</td>\n",
       "      <td>1.043033e-05</td>\n",
       "      <td>6.678002e-13</td>\n",
       "      <td>2.451089e-13</td>\n",
       "      <td>3.584945e-12</td>\n",
       "      <td>-2.038018e-11</td>\n",
       "      <td>5.397949e-13</td>\n",
       "      <td>1.068942e-06</td>\n",
       "      <td>1.192461e-12</td>\n",
       "      <td>2.279492e-12</td>\n",
       "      <td>3.581202e-12</td>\n",
       "      <td>-7.215571e-13</td>\n",
       "      <td>3.926176e-13</td>\n",
       "      <td>1.983698e-06</td>\n",
       "      <td>1.545074e-13</td>\n",
       "      <td>8.108186e-13</td>\n",
       "      <td>1.719701e-14</td>\n",
       "      <td>-1.355367e-12</td>\n",
       "      <td>4.675361e-13</td>\n",
       "      <td>1.128585e-06</td>\n",
       "      <td>6.616688e-14</td>\n",
       "      <td>9.771092e-13</td>\n",
       "      <td>4.160011e-14</td>\n",
       "      <td>0</td>\n",
       "      <td>0</td>\n",
       "      <td>1.114942e-11</td>\n",
       "      <td>2.238771e-12</td>\n",
       "    </tr>\n",
       "    <tr>\n",
       "      <th>1</th>\n",
       "      <td>1295556</td>\n",
       "      <td>963526</td>\n",
       "      <td>1</td>\n",
       "      <td>0</td>\n",
       "      <td>0.000000</td>\n",
       "      <td>0.000000</td>\n",
       "      <td>0.000000</td>\n",
       "      <td>9</td>\n",
       "      <td>27</td>\n",
       "      <td>131</td>\n",
       "      <td>32</td>\n",
       "      <td>0</td>\n",
       "      <td>0</td>\n",
       "      <td>0.000000</td>\n",
       "      <td>0</td>\n",
       "      <td>1</td>\n",
       "      <td>3</td>\n",
       "      <td>0.188982</td>\n",
       "      <td>0.087039</td>\n",
       "      <td>0.276021</td>\n",
       "      <td>0.016449</td>\n",
       "      <td>0.465003</td>\n",
       "      <td>0.363060</td>\n",
       "      <td>3.058381e-07</td>\n",
       "      <td>8.828118e-07</td>\n",
       "      <td>0.000770</td>\n",
       "      <td>0.000842</td>\n",
       "      <td>5.300310e-13</td>\n",
       "      <td>2.342071e-15</td>\n",
       "      <td>1.019989e-14</td>\n",
       "      <td>1.090069e-14</td>\n",
       "      <td>-3.337605e-10</td>\n",
       "      <td>4.162595e-11</td>\n",
       "      <td>7.708635e-05</td>\n",
       "      <td>1.470892e-10</td>\n",
       "      <td>1.515475e-10</td>\n",
       "      <td>9.778703e-12</td>\n",
       "      <td>-9.740870e-13</td>\n",
       "      <td>7.573338e-12</td>\n",
       "      <td>1.756115e-06</td>\n",
       "      <td>6.388703e-13</td>\n",
       "      <td>2.164448e-11</td>\n",
       "      <td>4.320861e-14</td>\n",
       "      <td>-5.618920e-12</td>\n",
       "      <td>1.571062e-12</td>\n",
       "      <td>6.914455e-06</td>\n",
       "      <td>1.733208e-12</td>\n",
       "      <td>3.323972e-12</td>\n",
       "      <td>1.901158e-13</td>\n",
       "      <td>-5.964949e-12</td>\n",
       "      <td>3.005636e-12</td>\n",
       "      <td>2.541620e-06</td>\n",
       "      <td>5.606016e-12</td>\n",
       "      <td>1.995030e-12</td>\n",
       "      <td>2.031787e-13</td>\n",
       "      <td>0</td>\n",
       "      <td>0</td>\n",
       "      <td>1.353725e-10</td>\n",
       "      <td>1.757391e-11</td>\n",
       "    </tr>\n",
       "    <tr>\n",
       "      <th>2</th>\n",
       "      <td>862038</td>\n",
       "      <td>779418</td>\n",
       "      <td>1</td>\n",
       "      <td>0</td>\n",
       "      <td>0.266667</td>\n",
       "      <td>0.176383</td>\n",
       "      <td>0.426401</td>\n",
       "      <td>7</td>\n",
       "      <td>15</td>\n",
       "      <td>11</td>\n",
       "      <td>8</td>\n",
       "      <td>7</td>\n",
       "      <td>4</td>\n",
       "      <td>3.543179</td>\n",
       "      <td>0</td>\n",
       "      <td>1</td>\n",
       "      <td>2</td>\n",
       "      <td>0.250000</td>\n",
       "      <td>0.288675</td>\n",
       "      <td>0.538675</td>\n",
       "      <td>0.072169</td>\n",
       "      <td>0.788675</td>\n",
       "      <td>0.827350</td>\n",
       "      <td>4.136740e-07</td>\n",
       "      <td>7.269774e-07</td>\n",
       "      <td>0.000758</td>\n",
       "      <td>0.000789</td>\n",
       "      <td>4.915683e-18</td>\n",
       "      <td>3.280271e-18</td>\n",
       "      <td>2.078865e-19</td>\n",
       "      <td>4.786083e-19</td>\n",
       "      <td>-1.553796e-14</td>\n",
       "      <td>2.865015e-14</td>\n",
       "      <td>3.538424e-14</td>\n",
       "      <td>2.335941e-14</td>\n",
       "      <td>2.513134e-13</td>\n",
       "      <td>9.091663e-17</td>\n",
       "      <td>-1.036918e-14</td>\n",
       "      <td>1.910879e-14</td>\n",
       "      <td>2.480828e-14</td>\n",
       "      <td>1.563863e-14</td>\n",
       "      <td>1.649727e-13</td>\n",
       "      <td>6.057586e-17</td>\n",
       "      <td>-9.483942e-16</td>\n",
       "      <td>1.719484e-15</td>\n",
       "      <td>2.115475e-15</td>\n",
       "      <td>1.346589e-15</td>\n",
       "      <td>1.206546e-14</td>\n",
       "      <td>3.881597e-18</td>\n",
       "      <td>-2.165889e-15</td>\n",
       "      <td>3.917872e-15</td>\n",
       "      <td>4.776554e-15</td>\n",
       "      <td>3.067890e-15</td>\n",
       "      <td>1.871779e-13</td>\n",
       "      <td>8.936328e-18</td>\n",
       "      <td>0</td>\n",
       "      <td>0</td>\n",
       "      <td>4.341157e-26</td>\n",
       "      <td>2.281413e-27</td>\n",
       "    </tr>\n",
       "    <tr>\n",
       "      <th>3</th>\n",
       "      <td>979441</td>\n",
       "      <td>894746</td>\n",
       "      <td>1</td>\n",
       "      <td>0</td>\n",
       "      <td>0.000000</td>\n",
       "      <td>0.000000</td>\n",
       "      <td>0.000000</td>\n",
       "      <td>21</td>\n",
       "      <td>32</td>\n",
       "      <td>15</td>\n",
       "      <td>32</td>\n",
       "      <td>0</td>\n",
       "      <td>0</td>\n",
       "      <td>0.000000</td>\n",
       "      <td>1</td>\n",
       "      <td>1</td>\n",
       "      <td>3</td>\n",
       "      <td>0.174078</td>\n",
       "      <td>0.250000</td>\n",
       "      <td>0.424078</td>\n",
       "      <td>0.043519</td>\n",
       "      <td>0.598155</td>\n",
       "      <td>0.674078</td>\n",
       "      <td>1.274879e-06</td>\n",
       "      <td>2.275377e-06</td>\n",
       "      <td>0.000814</td>\n",
       "      <td>0.000858</td>\n",
       "      <td>9.826551e-16</td>\n",
       "      <td>2.177103e-15</td>\n",
       "      <td>5.492530e-15</td>\n",
       "      <td>8.431883e-15</td>\n",
       "      <td>-5.318472e-13</td>\n",
       "      <td>2.409192e-10</td>\n",
       "      <td>7.024101e-11</td>\n",
       "      <td>3.697509e-11</td>\n",
       "      <td>7.936406e-11</td>\n",
       "      <td>1.812921e-14</td>\n",
       "      <td>-2.170187e-11</td>\n",
       "      <td>3.698640e-11</td>\n",
       "      <td>5.690156e-09</td>\n",
       "      <td>2.896856e-11</td>\n",
       "      <td>5.776897e-11</td>\n",
       "      <td>4.016578e-14</td>\n",
       "      <td>-5.817820e-12</td>\n",
       "      <td>1.634761e-11</td>\n",
       "      <td>1.483481e-09</td>\n",
       "      <td>3.915119e-11</td>\n",
       "      <td>5.651652e-11</td>\n",
       "      <td>1.023756e-13</td>\n",
       "      <td>-5.594587e-12</td>\n",
       "      <td>4.915916e-10</td>\n",
       "      <td>5.337793e-10</td>\n",
       "      <td>1.611741e-11</td>\n",
       "      <td>2.631428e-10</td>\n",
       "      <td>1.571624e-13</td>\n",
       "      <td>0</td>\n",
       "      <td>0</td>\n",
       "      <td>4.142605e-19</td>\n",
       "      <td>8.154232e-19</td>\n",
       "    </tr>\n",
       "    <tr>\n",
       "      <th>4</th>\n",
       "      <td>1088526</td>\n",
       "      <td>99070</td>\n",
       "      <td>1</td>\n",
       "      <td>0</td>\n",
       "      <td>0.027778</td>\n",
       "      <td>0.038490</td>\n",
       "      <td>0.062994</td>\n",
       "      <td>27</td>\n",
       "      <td>10</td>\n",
       "      <td>28</td>\n",
       "      <td>9</td>\n",
       "      <td>2</td>\n",
       "      <td>1</td>\n",
       "      <td>0.676992</td>\n",
       "      <td>1</td>\n",
       "      <td>1</td>\n",
       "      <td>2</td>\n",
       "      <td>0.301511</td>\n",
       "      <td>0.185695</td>\n",
       "      <td>0.487207</td>\n",
       "      <td>0.055989</td>\n",
       "      <td>0.788718</td>\n",
       "      <td>0.672902</td>\n",
       "      <td>2.021736e-06</td>\n",
       "      <td>1.614656e-06</td>\n",
       "      <td>0.000837</td>\n",
       "      <td>0.000770</td>\n",
       "      <td>6.160798e-16</td>\n",
       "      <td>2.632996e-16</td>\n",
       "      <td>5.674428e-16</td>\n",
       "      <td>2.633843e-16</td>\n",
       "      <td>-2.234400e-11</td>\n",
       "      <td>1.312866e-11</td>\n",
       "      <td>1.377257e-10</td>\n",
       "      <td>6.628748e-13</td>\n",
       "      <td>2.808901e-12</td>\n",
       "      <td>1.136628e-14</td>\n",
       "      <td>-2.775996e-11</td>\n",
       "      <td>4.918542e-10</td>\n",
       "      <td>4.220389e-11</td>\n",
       "      <td>4.723662e-12</td>\n",
       "      <td>7.583023e-11</td>\n",
       "      <td>4.857691e-15</td>\n",
       "      <td>-1.015052e-11</td>\n",
       "      <td>1.874409e-11</td>\n",
       "      <td>4.743309e-11</td>\n",
       "      <td>1.947993e-12</td>\n",
       "      <td>4.150070e-12</td>\n",
       "      <td>1.057661e-14</td>\n",
       "      <td>-7.046255e-13</td>\n",
       "      <td>1.093858e-11</td>\n",
       "      <td>1.137450e-11</td>\n",
       "      <td>3.289914e-14</td>\n",
       "      <td>8.590561e-13</td>\n",
       "      <td>4.909247e-15</td>\n",
       "      <td>0</td>\n",
       "      <td>0</td>\n",
       "      <td>1.310634e-20</td>\n",
       "      <td>7.553429e-22</td>\n",
       "    </tr>\n",
       "  </tbody>\n",
       "</table>\n",
       "</div>"
      ],
      "text/plain": [
       "   source_node  destination_node  ...    source_dot   destina_dot\n",
       "0       273084           1505602  ...  1.114942e-11  2.238771e-12\n",
       "1      1295556            963526  ...  1.353725e-10  1.757391e-11\n",
       "2       862038            779418  ...  4.341157e-26  2.281413e-27\n",
       "3       979441            894746  ...  4.142605e-19  8.154232e-19\n",
       "4      1088526             99070  ...  1.310634e-20  7.553429e-22\n",
       "\n",
       "[5 rows x 59 columns]"
      ]
     },
     "execution_count": 155,
     "metadata": {
      "tags": []
     },
     "output_type": "execute_result"
    }
   ],
   "source": [
    "df_final_train.head()"
   ]
  },
  {
   "cell_type": "code",
   "execution_count": 156,
   "metadata": {
    "colab": {
     "base_uri": "https://localhost:8080/",
     "height": 309
    },
    "colab_type": "code",
    "id": "0k7Qf86q9Os2",
    "outputId": "0df83812-a1cc-473e-db90-4f0387d0c281"
   },
   "outputs": [
    {
     "data": {
      "text/html": [
       "<div>\n",
       "<style scoped>\n",
       "    .dataframe tbody tr th:only-of-type {\n",
       "        vertical-align: middle;\n",
       "    }\n",
       "\n",
       "    .dataframe tbody tr th {\n",
       "        vertical-align: top;\n",
       "    }\n",
       "\n",
       "    .dataframe thead th {\n",
       "        text-align: right;\n",
       "    }\n",
       "</style>\n",
       "<table border=\"1\" class=\"dataframe\">\n",
       "  <thead>\n",
       "    <tr style=\"text-align: right;\">\n",
       "      <th></th>\n",
       "      <th>source_node</th>\n",
       "      <th>destination_node</th>\n",
       "      <th>indicator_link</th>\n",
       "      <th>jaccard_followers</th>\n",
       "      <th>jaccard_followees</th>\n",
       "      <th>cosine_followers</th>\n",
       "      <th>cosine_followees</th>\n",
       "      <th>num_followers_s</th>\n",
       "      <th>num_followers_d</th>\n",
       "      <th>num_followees_s</th>\n",
       "      <th>num_followees_d</th>\n",
       "      <th>inter_followers</th>\n",
       "      <th>inter_followees</th>\n",
       "      <th>adar_index</th>\n",
       "      <th>follows_back</th>\n",
       "      <th>same_comp</th>\n",
       "      <th>shortest_path</th>\n",
       "      <th>weight_in</th>\n",
       "      <th>weight_out</th>\n",
       "      <th>weight_f1</th>\n",
       "      <th>weight_f2</th>\n",
       "      <th>weight_f3</th>\n",
       "      <th>weight_f4</th>\n",
       "      <th>page_rank_s</th>\n",
       "      <th>page_rank_d</th>\n",
       "      <th>katz_s</th>\n",
       "      <th>katz_d</th>\n",
       "      <th>hubs_s</th>\n",
       "      <th>hubs_d</th>\n",
       "      <th>authorities_s</th>\n",
       "      <th>authorities_d</th>\n",
       "      <th>svd_u_s_1</th>\n",
       "      <th>svd_u_s_2</th>\n",
       "      <th>svd_u_s_3</th>\n",
       "      <th>svd_u_s_4</th>\n",
       "      <th>svd_u_s_5</th>\n",
       "      <th>svd_u_s_6</th>\n",
       "      <th>svd_u_d_1</th>\n",
       "      <th>svd_u_d_2</th>\n",
       "      <th>svd_u_d_3</th>\n",
       "      <th>svd_u_d_4</th>\n",
       "      <th>svd_u_d_5</th>\n",
       "      <th>svd_u_d_6</th>\n",
       "      <th>svd_v_s_1</th>\n",
       "      <th>svd_v_s_2</th>\n",
       "      <th>svd_v_s_3</th>\n",
       "      <th>svd_v_s_4</th>\n",
       "      <th>svd_v_s_5</th>\n",
       "      <th>svd_v_s_6</th>\n",
       "      <th>svd_v_d_1</th>\n",
       "      <th>svd_v_d_2</th>\n",
       "      <th>svd_v_d_3</th>\n",
       "      <th>svd_v_d_4</th>\n",
       "      <th>svd_v_d_5</th>\n",
       "      <th>svd_v_d_6</th>\n",
       "      <th>preferential_attachment_followers</th>\n",
       "      <th>preferential_attachment_followees</th>\n",
       "      <th>source_dot</th>\n",
       "      <th>destina_dot</th>\n",
       "    </tr>\n",
       "  </thead>\n",
       "  <tbody>\n",
       "    <tr>\n",
       "      <th>0</th>\n",
       "      <td>848424</td>\n",
       "      <td>784690</td>\n",
       "      <td>1</td>\n",
       "      <td>0</td>\n",
       "      <td>0.000000</td>\n",
       "      <td>0.029161</td>\n",
       "      <td>0.000000</td>\n",
       "      <td>6</td>\n",
       "      <td>14</td>\n",
       "      <td>6</td>\n",
       "      <td>9</td>\n",
       "      <td>1</td>\n",
       "      <td>0</td>\n",
       "      <td>0.000000</td>\n",
       "      <td>1</td>\n",
       "      <td>1</td>\n",
       "      <td>2</td>\n",
       "      <td>0.258199</td>\n",
       "      <td>0.377964</td>\n",
       "      <td>0.636163</td>\n",
       "      <td>0.097590</td>\n",
       "      <td>0.894362</td>\n",
       "      <td>1.014128</td>\n",
       "      <td>6.557971e-07</td>\n",
       "      <td>1.559547e-06</td>\n",
       "      <td>0.000754</td>\n",
       "      <td>0.000786</td>\n",
       "      <td>3.243237e-16</td>\n",
       "      <td>1.745627e-16</td>\n",
       "      <td>2.969838e-15</td>\n",
       "      <td>9.269213e-14</td>\n",
       "      <td>-9.987980e-12</td>\n",
       "      <td>2.283711e-13</td>\n",
       "      <td>1.439959e-10</td>\n",
       "      <td>6.136166e-13</td>\n",
       "      <td>4.188174e-13</td>\n",
       "      <td>5.983502e-15</td>\n",
       "      <td>-1.026186e-11</td>\n",
       "      <td>5.316669e-13</td>\n",
       "      <td>5.843125e-10</td>\n",
       "      <td>1.166049e-13</td>\n",
       "      <td>2.253362e-11</td>\n",
       "      <td>3.220542e-15</td>\n",
       "      <td>-2.148852e-13</td>\n",
       "      <td>1.883275e-13</td>\n",
       "      <td>5.904801e-11</td>\n",
       "      <td>2.701538e-12</td>\n",
       "      <td>4.341610e-13</td>\n",
       "      <td>5.535503e-14</td>\n",
       "      <td>-9.994076e-10</td>\n",
       "      <td>5.791950e-10</td>\n",
       "      <td>3.512350e-07</td>\n",
       "      <td>2.486660e-09</td>\n",
       "      <td>2.771134e-09</td>\n",
       "      <td>1.727695e-12</td>\n",
       "      <td>0</td>\n",
       "      <td>0</td>\n",
       "      <td>8.425072e-20</td>\n",
       "      <td>2.074798e-17</td>\n",
       "    </tr>\n",
       "    <tr>\n",
       "      <th>1</th>\n",
       "      <td>1288618</td>\n",
       "      <td>816620</td>\n",
       "      <td>1</td>\n",
       "      <td>0</td>\n",
       "      <td>0.232558</td>\n",
       "      <td>0.068041</td>\n",
       "      <td>0.382920</td>\n",
       "      <td>24</td>\n",
       "      <td>12</td>\n",
       "      <td>31</td>\n",
       "      <td>22</td>\n",
       "      <td>4</td>\n",
       "      <td>10</td>\n",
       "      <td>11.923852</td>\n",
       "      <td>1</td>\n",
       "      <td>1</td>\n",
       "      <td>2</td>\n",
       "      <td>0.277350</td>\n",
       "      <td>0.176777</td>\n",
       "      <td>0.454127</td>\n",
       "      <td>0.049029</td>\n",
       "      <td>0.731477</td>\n",
       "      <td>0.630903</td>\n",
       "      <td>1.899925e-06</td>\n",
       "      <td>7.858812e-07</td>\n",
       "      <td>0.000826</td>\n",
       "      <td>0.000781</td>\n",
       "      <td>8.788386e-11</td>\n",
       "      <td>6.864391e-11</td>\n",
       "      <td>7.047267e-12</td>\n",
       "      <td>3.198277e-12</td>\n",
       "      <td>-5.998970e-12</td>\n",
       "      <td>9.210175e-11</td>\n",
       "      <td>5.212824e-10</td>\n",
       "      <td>1.077997e-08</td>\n",
       "      <td>7.510915e-11</td>\n",
       "      <td>1.621397e-09</td>\n",
       "      <td>-5.347473e-11</td>\n",
       "      <td>1.864835e-10</td>\n",
       "      <td>1.586034e-09</td>\n",
       "      <td>7.420230e-09</td>\n",
       "      <td>7.559939e-11</td>\n",
       "      <td>1.266433e-09</td>\n",
       "      <td>-2.999451e-12</td>\n",
       "      <td>1.859227e-11</td>\n",
       "      <td>5.217890e-11</td>\n",
       "      <td>8.327158e-10</td>\n",
       "      <td>3.605103e-11</td>\n",
       "      <td>1.313545e-10</td>\n",
       "      <td>-9.083280e-10</td>\n",
       "      <td>6.860668e-10</td>\n",
       "      <td>2.349931e-11</td>\n",
       "      <td>4.769775e-10</td>\n",
       "      <td>1.302441e-09</td>\n",
       "      <td>5.961293e-11</td>\n",
       "      <td>0</td>\n",
       "      <td>0</td>\n",
       "      <td>8.289323e-17</td>\n",
       "      <td>4.686777e-19</td>\n",
       "    </tr>\n",
       "    <tr>\n",
       "      <th>2</th>\n",
       "      <td>1747456</td>\n",
       "      <td>75621</td>\n",
       "      <td>1</td>\n",
       "      <td>0</td>\n",
       "      <td>0.000000</td>\n",
       "      <td>0.000000</td>\n",
       "      <td>0.000000</td>\n",
       "      <td>11</td>\n",
       "      <td>15</td>\n",
       "      <td>12</td>\n",
       "      <td>0</td>\n",
       "      <td>0</td>\n",
       "      <td>0</td>\n",
       "      <td>0.000000</td>\n",
       "      <td>0</td>\n",
       "      <td>1</td>\n",
       "      <td>5</td>\n",
       "      <td>0.250000</td>\n",
       "      <td>0.277350</td>\n",
       "      <td>0.527350</td>\n",
       "      <td>0.069338</td>\n",
       "      <td>0.777350</td>\n",
       "      <td>0.804700</td>\n",
       "      <td>9.047341e-07</td>\n",
       "      <td>1.780068e-06</td>\n",
       "      <td>0.000774</td>\n",
       "      <td>0.000795</td>\n",
       "      <td>1.464039e-14</td>\n",
       "      <td>0.000000e+00</td>\n",
       "      <td>6.832277e-15</td>\n",
       "      <td>1.199223e-12</td>\n",
       "      <td>-2.940600e-13</td>\n",
       "      <td>1.375837e-12</td>\n",
       "      <td>3.677050e-11</td>\n",
       "      <td>6.530851e-11</td>\n",
       "      <td>1.064616e-11</td>\n",
       "      <td>2.701050e-13</td>\n",
       "      <td>-5.766869e-20</td>\n",
       "      <td>-6.070228e-20</td>\n",
       "      <td>-6.970175e-20</td>\n",
       "      <td>1.531312e-19</td>\n",
       "      <td>-6.480824e-20</td>\n",
       "      <td>-1.055774e-19</td>\n",
       "      <td>-2.226246e-13</td>\n",
       "      <td>8.476719e-12</td>\n",
       "      <td>4.859797e-12</td>\n",
       "      <td>5.260503e-11</td>\n",
       "      <td>1.216465e-12</td>\n",
       "      <td>1.273473e-13</td>\n",
       "      <td>-1.876396e-09</td>\n",
       "      <td>1.128561e-10</td>\n",
       "      <td>2.659743e-10</td>\n",
       "      <td>1.333574e-10</td>\n",
       "      <td>3.909763e-10</td>\n",
       "      <td>2.235240e-11</td>\n",
       "      <td>0</td>\n",
       "      <td>0</td>\n",
       "      <td>6.652768e-30</td>\n",
       "      <td>1.016069e-20</td>\n",
       "    </tr>\n",
       "    <tr>\n",
       "      <th>3</th>\n",
       "      <td>1451525</td>\n",
       "      <td>350908</td>\n",
       "      <td>1</td>\n",
       "      <td>0</td>\n",
       "      <td>0.008475</td>\n",
       "      <td>0.000000</td>\n",
       "      <td>0.053606</td>\n",
       "      <td>110</td>\n",
       "      <td>1</td>\n",
       "      <td>116</td>\n",
       "      <td>3</td>\n",
       "      <td>0</td>\n",
       "      <td>1</td>\n",
       "      <td>0.472306</td>\n",
       "      <td>1</td>\n",
       "      <td>1</td>\n",
       "      <td>2</td>\n",
       "      <td>0.707107</td>\n",
       "      <td>0.092450</td>\n",
       "      <td>0.799557</td>\n",
       "      <td>0.065372</td>\n",
       "      <td>1.506664</td>\n",
       "      <td>0.892007</td>\n",
       "      <td>6.111870e-06</td>\n",
       "      <td>1.693235e-07</td>\n",
       "      <td>0.001196</td>\n",
       "      <td>0.000738</td>\n",
       "      <td>1.504732e-12</td>\n",
       "      <td>4.852579e-15</td>\n",
       "      <td>2.803527e-13</td>\n",
       "      <td>8.088647e-15</td>\n",
       "      <td>-9.208907e-11</td>\n",
       "      <td>2.887168e-11</td>\n",
       "      <td>1.012931e-04</td>\n",
       "      <td>1.209041e-11</td>\n",
       "      <td>1.125255e-10</td>\n",
       "      <td>2.776126e-11</td>\n",
       "      <td>-1.210866e-11</td>\n",
       "      <td>9.361280e-13</td>\n",
       "      <td>1.044654e-05</td>\n",
       "      <td>7.415301e-13</td>\n",
       "      <td>5.912051e-12</td>\n",
       "      <td>8.952656e-14</td>\n",
       "      <td>-5.256396e-11</td>\n",
       "      <td>2.754437e-11</td>\n",
       "      <td>1.675501e-04</td>\n",
       "      <td>4.608594e-11</td>\n",
       "      <td>3.285265e-10</td>\n",
       "      <td>5.225502e-12</td>\n",
       "      <td>-1.503337e-12</td>\n",
       "      <td>2.155034e-13</td>\n",
       "      <td>1.375822e-06</td>\n",
       "      <td>2.544761e-13</td>\n",
       "      <td>9.177577e-13</td>\n",
       "      <td>1.507649e-13</td>\n",
       "      <td>0</td>\n",
       "      <td>0</td>\n",
       "      <td>1.058163e-09</td>\n",
       "      <td>2.305191e-10</td>\n",
       "    </tr>\n",
       "    <tr>\n",
       "      <th>4</th>\n",
       "      <td>43098</td>\n",
       "      <td>808116</td>\n",
       "      <td>1</td>\n",
       "      <td>0</td>\n",
       "      <td>0.000000</td>\n",
       "      <td>0.058926</td>\n",
       "      <td>0.000000</td>\n",
       "      <td>8</td>\n",
       "      <td>24</td>\n",
       "      <td>0</td>\n",
       "      <td>10</td>\n",
       "      <td>4</td>\n",
       "      <td>0</td>\n",
       "      <td>0.000000</td>\n",
       "      <td>1</td>\n",
       "      <td>1</td>\n",
       "      <td>-1</td>\n",
       "      <td>0.200000</td>\n",
       "      <td>1.000000</td>\n",
       "      <td>1.200000</td>\n",
       "      <td>0.200000</td>\n",
       "      <td>1.400000</td>\n",
       "      <td>2.200000</td>\n",
       "      <td>6.021455e-07</td>\n",
       "      <td>1.791214e-06</td>\n",
       "      <td>0.000764</td>\n",
       "      <td>0.000827</td>\n",
       "      <td>0.000000e+00</td>\n",
       "      <td>1.774621e-15</td>\n",
       "      <td>3.406256e-15</td>\n",
       "      <td>9.267794e-14</td>\n",
       "      <td>2.068375e-20</td>\n",
       "      <td>2.389721e-20</td>\n",
       "      <td>1.320685e-20</td>\n",
       "      <td>-4.855423e-20</td>\n",
       "      <td>2.118878e-20</td>\n",
       "      <td>2.962930e-20</td>\n",
       "      <td>-1.144107e-11</td>\n",
       "      <td>3.778722e-11</td>\n",
       "      <td>6.074622e-10</td>\n",
       "      <td>8.452381e-12</td>\n",
       "      <td>4.002841e-11</td>\n",
       "      <td>3.274043e-14</td>\n",
       "      <td>-8.772443e-12</td>\n",
       "      <td>4.784376e-12</td>\n",
       "      <td>6.042045e-10</td>\n",
       "      <td>5.810217e-13</td>\n",
       "      <td>2.113580e-11</td>\n",
       "      <td>6.348943e-14</td>\n",
       "      <td>-2.007326e-11</td>\n",
       "      <td>3.242395e-10</td>\n",
       "      <td>4.379903e-08</td>\n",
       "      <td>3.553562e-12</td>\n",
       "      <td>1.093515e-09</td>\n",
       "      <td>1.727431e-12</td>\n",
       "      <td>0</td>\n",
       "      <td>0</td>\n",
       "      <td>9.127750e-30</td>\n",
       "      <td>2.648841e-17</td>\n",
       "    </tr>\n",
       "  </tbody>\n",
       "</table>\n",
       "</div>"
      ],
      "text/plain": [
       "   source_node  destination_node  ...    source_dot   destina_dot\n",
       "0       848424            784690  ...  8.425072e-20  2.074798e-17\n",
       "1      1288618            816620  ...  8.289323e-17  4.686777e-19\n",
       "2      1747456             75621  ...  6.652768e-30  1.016069e-20\n",
       "3      1451525            350908  ...  1.058163e-09  2.305191e-10\n",
       "4        43098            808116  ...  9.127750e-30  2.648841e-17\n",
       "\n",
       "[5 rows x 59 columns]"
      ]
     },
     "execution_count": 156,
     "metadata": {
      "tags": []
     },
     "output_type": "execute_result"
    }
   ],
   "source": [
    "df_final_test.head()"
   ]
  },
  {
   "cell_type": "code",
   "execution_count": 157,
   "metadata": {
    "colab": {
     "base_uri": "https://localhost:8080/",
     "height": 34
    },
    "colab_type": "code",
    "id": "TOXptMXwx775",
    "outputId": "bb265a59-bad7-4906-9c6e-c7ae36b1cb85"
   },
   "outputs": [
    {
     "data": {
      "text/plain": [
       "(100002, 59)"
      ]
     },
     "execution_count": 157,
     "metadata": {
      "tags": []
     },
     "output_type": "execute_result"
    }
   ],
   "source": [
    "df_final_train.shape"
   ]
  },
  {
   "cell_type": "code",
   "execution_count": 159,
   "metadata": {
    "colab": {
     "base_uri": "https://localhost:8080/",
     "height": 34
    },
    "colab_type": "code",
    "id": "hrgSTNHf9biC",
    "outputId": "94714d76-b83c-4941-ee2c-3c810d73518a"
   },
   "outputs": [
    {
     "data": {
      "text/plain": [
       "(37581, 59)"
      ]
     },
     "execution_count": 159,
     "metadata": {
      "tags": []
     },
     "output_type": "execute_result"
    }
   ],
   "source": [
    "df_final_test.shape"
   ]
  },
  {
   "cell_type": "code",
   "execution_count": 158,
   "metadata": {
    "colab": {
     "base_uri": "https://localhost:8080/",
     "height": 289
    },
    "colab_type": "code",
    "id": "ITgfM5AY0wqC",
    "outputId": "c01fe167-1fdc-45d1-f01f-6d42154dce77"
   },
   "outputs": [
    {
     "data": {
      "text/plain": [
       "Index(['source_node', 'destination_node', 'indicator_link',\n",
       "       'jaccard_followers', 'jaccard_followees', 'cosine_followers',\n",
       "       'cosine_followees', 'num_followers_s', 'num_followers_d',\n",
       "       'num_followees_s', 'num_followees_d', 'inter_followers',\n",
       "       'inter_followees', 'adar_index', 'follows_back', 'same_comp',\n",
       "       'shortest_path', 'weight_in', 'weight_out', 'weight_f1', 'weight_f2',\n",
       "       'weight_f3', 'weight_f4', 'page_rank_s', 'page_rank_d', 'katz_s',\n",
       "       'katz_d', 'hubs_s', 'hubs_d', 'authorities_s', 'authorities_d',\n",
       "       'svd_u_s_1', 'svd_u_s_2', 'svd_u_s_3', 'svd_u_s_4', 'svd_u_s_5',\n",
       "       'svd_u_s_6', 'svd_u_d_1', 'svd_u_d_2', 'svd_u_d_3', 'svd_u_d_4',\n",
       "       'svd_u_d_5', 'svd_u_d_6', 'svd_v_s_1', 'svd_v_s_2', 'svd_v_s_3',\n",
       "       'svd_v_s_4', 'svd_v_s_5', 'svd_v_s_6', 'svd_v_d_1', 'svd_v_d_2',\n",
       "       'svd_v_d_3', 'svd_v_d_4', 'svd_v_d_5', 'svd_v_d_6',\n",
       "       'preferential_attachment_followers',\n",
       "       'preferential_attachment_followees', 'source_dot', 'destina_dot'],\n",
       "      dtype='object')"
      ]
     },
     "execution_count": 158,
     "metadata": {
      "tags": []
     },
     "output_type": "execute_result"
    }
   ],
   "source": [
    "df_final_train.columns"
   ]
  },
  {
   "cell_type": "code",
   "execution_count": 160,
   "metadata": {
    "colab": {
     "base_uri": "https://localhost:8080/",
     "height": 289
    },
    "colab_type": "code",
    "id": "eiVwvOSd9gG5",
    "outputId": "3d644464-c5b8-4d16-f0b0-4a117f515b3a"
   },
   "outputs": [
    {
     "data": {
      "text/plain": [
       "Index(['source_node', 'destination_node', 'indicator_link',\n",
       "       'jaccard_followers', 'jaccard_followees', 'cosine_followers',\n",
       "       'cosine_followees', 'num_followers_s', 'num_followers_d',\n",
       "       'num_followees_s', 'num_followees_d', 'inter_followers',\n",
       "       'inter_followees', 'adar_index', 'follows_back', 'same_comp',\n",
       "       'shortest_path', 'weight_in', 'weight_out', 'weight_f1', 'weight_f2',\n",
       "       'weight_f3', 'weight_f4', 'page_rank_s', 'page_rank_d', 'katz_s',\n",
       "       'katz_d', 'hubs_s', 'hubs_d', 'authorities_s', 'authorities_d',\n",
       "       'svd_u_s_1', 'svd_u_s_2', 'svd_u_s_3', 'svd_u_s_4', 'svd_u_s_5',\n",
       "       'svd_u_s_6', 'svd_u_d_1', 'svd_u_d_2', 'svd_u_d_3', 'svd_u_d_4',\n",
       "       'svd_u_d_5', 'svd_u_d_6', 'svd_v_s_1', 'svd_v_s_2', 'svd_v_s_3',\n",
       "       'svd_v_s_4', 'svd_v_s_5', 'svd_v_s_6', 'svd_v_d_1', 'svd_v_d_2',\n",
       "       'svd_v_d_3', 'svd_v_d_4', 'svd_v_d_5', 'svd_v_d_6',\n",
       "       'preferential_attachment_followers',\n",
       "       'preferential_attachment_followees', 'source_dot', 'destina_dot'],\n",
       "      dtype='object')"
      ]
     },
     "execution_count": 160,
     "metadata": {
      "tags": []
     },
     "output_type": "execute_result"
    }
   ],
   "source": [
    "df_final_test.columns"
   ]
  },
  {
   "cell_type": "code",
   "execution_count": 0,
   "metadata": {
    "colab": {},
    "colab_type": "code",
    "id": "DEQB6_EX0-4C"
   },
   "outputs": [],
   "source": [
    "y_train = df_final_train.indicator_link\n",
    "y_test = df_final_test.indicator_link"
   ]
  },
  {
   "cell_type": "code",
   "execution_count": 0,
   "metadata": {
    "colab": {},
    "colab_type": "code",
    "id": "pvzEDcvi1EDk"
   },
   "outputs": [],
   "source": [
    "df_final_train.drop(['source_node', 'destination_node','indicator_link'],axis=1,inplace=True)\n",
    "df_final_test.drop(['source_node', 'destination_node','indicator_link'],axis=1,inplace=True)"
   ]
  },
  {
   "cell_type": "markdown",
   "metadata": {
    "colab_type": "text",
    "id": "TWXphRQf1a2z"
   },
   "source": [
    "<h2>task 3"
   ]
  },
  {
   "cell_type": "code",
   "execution_count": 0,
   "metadata": {
    "colab": {},
    "colab_type": "code",
    "id": "57nqgKa82ymZ"
   },
   "outputs": [],
   "source": [
    "df_final_train_xgb = df_final_train.values\n",
    "df_final_test_xgb = df_final_test.values"
   ]
  },
  {
   "cell_type": "markdown",
   "metadata": {
    "colab_type": "text",
    "id": "TrH_S2kT4mq3"
   },
   "source": [
    "<h3>tunning hyper param"
   ]
  },
  {
   "cell_type": "code",
   "execution_count": 172,
   "metadata": {
    "colab": {
     "base_uri": "https://localhost:8080/",
     "height": 969
    },
    "colab_type": "code",
    "id": "6cqJNzNS55RO",
    "outputId": "5cf24061-da86-42bf-a7ee-b55e6dddb7c1"
   },
   "outputs": [
    {
     "name": "stdout",
     "output_type": "stream",
     "text": [
      "CV with max_depth=3, min_child_weight=1\n",
      "\tLogLoss 0.5778518 for 9 rounds\n",
      "CV with max_depth=3, min_child_weight=2\n",
      "\tLogLoss 0.5778518 for 9 rounds\n",
      "CV with max_depth=3, min_child_weight=3\n",
      "\tLogLoss 0.5778518 for 9 rounds\n",
      "CV with max_depth=3, min_child_weight=4\n",
      "\tLogLoss 0.5778518 for 9 rounds\n",
      "CV with max_depth=4, min_child_weight=1\n",
      "\tLogLoss 0.5673511 for 9 rounds\n",
      "CV with max_depth=4, min_child_weight=2\n",
      "\tLogLoss 0.5673511 for 9 rounds\n",
      "CV with max_depth=4, min_child_weight=3\n",
      "\tLogLoss 0.5673511 for 9 rounds\n",
      "CV with max_depth=4, min_child_weight=4\n",
      "\tLogLoss 0.5673511 for 9 rounds\n",
      "CV with max_depth=5, min_child_weight=1\n",
      "\tLogLoss 0.5613701 for 9 rounds\n",
      "CV with max_depth=5, min_child_weight=2\n",
      "\tLogLoss 0.5613701 for 9 rounds\n",
      "CV with max_depth=5, min_child_weight=3\n",
      "\tLogLoss 0.5613701 for 9 rounds\n",
      "CV with max_depth=5, min_child_weight=4\n",
      "\tLogLoss 0.5613701 for 9 rounds\n",
      "CV with max_depth=6, min_child_weight=1\n",
      "\tLogLoss 0.5582849999999999 for 9 rounds\n",
      "CV with max_depth=6, min_child_weight=2\n",
      "\tLogLoss 0.5582849 for 9 rounds\n",
      "CV with max_depth=6, min_child_weight=3\n",
      "\tLogLoss 0.5582845000000001 for 9 rounds\n",
      "CV with max_depth=6, min_child_weight=4\n",
      "\tLogLoss 0.5582847 for 9 rounds\n",
      "CV with max_depth=7, min_child_weight=1\n",
      "\tLogLoss 0.5444505000000001 for 9 rounds\n",
      "CV with max_depth=7, min_child_weight=2\n",
      "\tLogLoss 0.5444516000000001 for 9 rounds\n",
      "CV with max_depth=7, min_child_weight=3\n",
      "\tLogLoss 0.5444586 for 9 rounds\n",
      "CV with max_depth=7, min_child_weight=4\n",
      "\tLogLoss 0.5444578 for 9 rounds\n",
      "CV with max_depth=8, min_child_weight=1\n",
      "\tLogLoss 0.5418886 for 9 rounds\n",
      "CV with max_depth=8, min_child_weight=2\n",
      "\tLogLoss 0.5418949 for 9 rounds\n",
      "CV with max_depth=8, min_child_weight=3\n",
      "\tLogLoss 0.5419106 for 9 rounds\n",
      "CV with max_depth=8, min_child_weight=4\n",
      "\tLogLoss 0.5419318 for 9 rounds\n",
      "CV with max_depth=9, min_child_weight=1\n",
      "\tLogLoss 0.5405436 for 9 rounds\n",
      "CV with max_depth=9, min_child_weight=2\n",
      "\tLogLoss 0.5405534 for 9 rounds\n",
      "CV with max_depth=9, min_child_weight=3\n",
      "\tLogLoss 0.5405818000000001 for 9 rounds\n",
      "CV with max_depth=9, min_child_weight=4\n",
      "\tLogLoss 0.540604 for 9 rounds\n"
     ]
    }
   ],
   "source": [
    "from scipy.stats import randint as sp_randint\n",
    "from scipy.stats import uniform as sp_uniform\n",
    "from sklearn.model_selection import RandomizedSearchCV\n",
    "params = {}\n",
    "params['objective'] = 'binary:logistic'\n",
    "params['eval_metric'] = 'logloss'\n",
    "params['eta'] = 0.02\n",
    "params['max_depth'] = 4\n",
    "\n",
    "# hyperparameter tuning for max_depth and min_child_weight\n",
    "min_logloss = float(\"Inf\")\n",
    "best_params = None\n",
    "\n",
    "gridsearch_params = [\n",
    "    (max_depth, min_child_weight)\n",
    "    for max_depth in range(3, 10)\n",
    "    for min_child_weight in range(1, 5)\n",
    "]\n",
    "\n",
    "for max_depth, min_child_weight in gridsearch_params:\n",
    "    print(\"CV with max_depth={}, min_child_weight={}\".format(\n",
    "                             max_depth,\n",
    "                             min_child_weight))\n",
    "\n",
    "    # Update our parameters\n",
    "    params['max_depth'] = max_depth\n",
    "    params['min_child_weight'] = min_child_weight\n",
    "\n",
    "    # Run CV\n",
    "    cv_results = xgb.cv(\n",
    "        params,\n",
    "        d_train,\n",
    "        seed=42,\n",
    "        nfold=10,\n",
    "        metrics={'logloss'},\n",
    "        early_stopping_rounds=10\n",
    "    )\n",
    "    \n",
    "    mean_logloss = cv_results['test-logloss-mean'].min()\n",
    "    boost_rounds = cv_results['test-logloss-mean'].argmin()\n",
    "    print(\"\\tLogLoss {} for {} rounds\".format(mean_logloss, boost_rounds))\n",
    "    if mean_logloss < min_logloss:\n",
    "        min_logloss = mean_logloss\n",
    "        best_params = (max_depth,min_child_weight)"
   ]
  },
  {
   "cell_type": "code",
   "execution_count": 173,
   "metadata": {
    "colab": {
     "base_uri": "https://localhost:8080/",
     "height": 34
    },
    "colab_type": "code",
    "id": "5KcTzV-56AKf",
    "outputId": "0f679acd-b3bc-4fae-f737-894d1f4b59ef"
   },
   "outputs": [
    {
     "name": "stdout",
     "output_type": "stream",
     "text": [
      "Best params: 9, 1\n"
     ]
    }
   ],
   "source": [
    "# best max_depth and min_child_weight\n",
    "print(\"Best params: {}, {}\".format(best_params[0], best_params[1]))"
   ]
  },
  {
   "cell_type": "code",
   "execution_count": 174,
   "metadata": {
    "colab": {
     "base_uri": "https://localhost:8080/",
     "height": 578
    },
    "colab_type": "code",
    "id": "ss2qceaZ6Ak_",
    "outputId": "29a3050d-f405-4e87-effc-bb1ec858c66d"
   },
   "outputs": [
    {
     "name": "stdout",
     "output_type": "stream",
     "text": [
      "CV with subsample=0.9, colsample=0.9\n",
      "\tLogLoss 0.542881 for 9 rounds\n",
      "CV with subsample=0.9, colsample=0.8\n",
      "\tLogLoss 0.5454245999999999 for 9 rounds\n",
      "CV with subsample=0.9, colsample=0.7\n",
      "\tLogLoss 0.5467907000000001 for 9 rounds\n",
      "CV with subsample=0.9, colsample=0.6\n",
      "\tLogLoss 0.5497812 for 9 rounds\n",
      "CV with subsample=0.8, colsample=0.9\n",
      "\tLogLoss 0.5429541 for 9 rounds\n",
      "CV with subsample=0.8, colsample=0.8\n",
      "\tLogLoss 0.5454563 for 9 rounds\n",
      "CV with subsample=0.8, colsample=0.7\n",
      "\tLogLoss 0.5468508 for 9 rounds\n",
      "CV with subsample=0.8, colsample=0.6\n",
      "\tLogLoss 0.5498073 for 9 rounds\n",
      "CV with subsample=0.7, colsample=0.9\n",
      "\tLogLoss 0.5429560999999999 for 9 rounds\n",
      "CV with subsample=0.7, colsample=0.8\n",
      "\tLogLoss 0.5454895000000001 for 9 rounds\n",
      "CV with subsample=0.7, colsample=0.7\n",
      "\tLogLoss 0.5468147 for 9 rounds\n",
      "CV with subsample=0.7, colsample=0.6\n",
      "\tLogLoss 0.5499069999999999 for 9 rounds\n",
      "CV with subsample=0.6, colsample=0.9\n",
      "\tLogLoss 0.5430425999999999 for 9 rounds\n",
      "CV with subsample=0.6, colsample=0.8\n",
      "\tLogLoss 0.5456527 for 9 rounds\n",
      "CV with subsample=0.6, colsample=0.7\n",
      "\tLogLoss 0.5469734 for 9 rounds\n",
      "CV with subsample=0.6, colsample=0.6\n",
      "\tLogLoss 0.5499903 for 9 rounds\n",
      "Best params: 0.9, 0.9\n"
     ]
    }
   ],
   "source": [
    "# hyperparameter tuning for subsample and colsample\n",
    "gridsearch_params = [\n",
    "    (subsample, colsample)\n",
    "    for subsample in [i/10 for i in range(6,10)]\n",
    "    for colsample in [i/10 for i in range(6,10)]\n",
    "]\n",
    "\n",
    "min_logloss = float(\"Inf\")\n",
    "best_params = None\n",
    "\n",
    "for subsample, colsample in reversed(gridsearch_params):\n",
    "    print(\"CV with subsample={}, colsample={}\".format(\n",
    "                             subsample,\n",
    "                             colsample))\n",
    "\n",
    "    # We update our parameters\n",
    "    params['subsample'] = subsample\n",
    "    params['colsample_bytree'] = colsample\n",
    "\n",
    "    # Run CV\n",
    "    cv_results = xgb.cv(\n",
    "        params,\n",
    "        d_train,\n",
    "        seed=42,\n",
    "        nfold=10,\n",
    "        metrics={'logloss'},\n",
    "        early_stopping_rounds=10\n",
    "    )\n",
    "\n",
    "    # Update best score\n",
    "    mean_logloss = cv_results['test-logloss-mean'].min()\n",
    "    boost_rounds = cv_results['test-logloss-mean'].argmin()\n",
    "    print(\"\\tLogLoss {} for {} rounds\".format(mean_logloss, boost_rounds))\n",
    "    if mean_logloss < min_logloss:\n",
    "        min_logloss = mean_logloss\n",
    "        best_params = (subsample,colsample)\n",
    "\n",
    "# Best subsample and colsample \n",
    "print(\"Best params: {}, {}\".format(best_params[0], best_params[1]))"
   ]
  },
  {
   "cell_type": "code",
   "execution_count": 175,
   "metadata": {
    "colab": {
     "base_uri": "https://localhost:8080/",
     "height": 204
    },
    "colab_type": "code",
    "id": "Of75RJBU6NQ5",
    "outputId": "9f50ac44-5f06-43a3-d7c2-8aa3cf93e537"
   },
   "outputs": [
    {
     "name": "stdout",
     "output_type": "stream",
     "text": [
      "CV with gamma=0.0\n",
      "\tLogLoss 0.5499903 for 9 rounds\n",
      "CV with gamma=0.1\n",
      "\tLogLoss 0.5499903999999999 for 9 rounds\n",
      "CV with gamma=0.2\n",
      "\tLogLoss 0.5499903 for 9 rounds\n",
      "CV with gamma=0.3\n",
      "\tLogLoss 0.5499891 for 9 rounds\n",
      "CV with gamma=0.4\n",
      "\tLogLoss 0.5499881999999999 for 9 rounds\n",
      "Best params: 0.4\n"
     ]
    }
   ],
   "source": [
    "# hyperparameter tuning for gamma\n",
    "min_logloss = float(\"Inf\")\n",
    "best_params = None\n",
    "\n",
    "gridsearch_params=[gamma\n",
    "    for gamma in [i/10.0 for i in range(0,5)]]\n",
    "\n",
    "for gamma in gridsearch_params:\n",
    "    print(\"CV with gamma={}\".format(gamma))\n",
    "\n",
    "    # We update our parameters\n",
    "    params['gamma'] = gamma\n",
    "\n",
    "    # Run and time CV\n",
    "    cv_results = xgb.cv(\n",
    "            params,\n",
    "            d_train,\n",
    "            seed=42,\n",
    "            nfold=10,\n",
    "            metrics=['logloss'],\n",
    "            early_stopping_rounds=10\n",
    "          )\n",
    "\n",
    "    # Update best score\n",
    "    mean_logloss = cv_results['test-logloss-mean'].min()\n",
    "    boost_rounds = cv_results['test-logloss-mean'].argmin()\n",
    "    print(\"\\tLogLoss {} for {} rounds\".format(mean_logloss, boost_rounds))\n",
    "    if mean_logloss < min_logloss:\n",
    "        min_logloss = mean_logloss\n",
    "        best_params = gamma\n",
    "\n",
    "# Best hyperparameter gamma \n",
    "print(\"Best params: {}\".format(best_params))"
   ]
  },
  {
   "cell_type": "code",
   "execution_count": 176,
   "metadata": {
    "colab": {
     "base_uri": "https://localhost:8080/",
     "height": 204
    },
    "colab_type": "code",
    "id": "N0od3i9u6REu",
    "outputId": "d5f75a5c-b9f1-4fcb-d001-8d5b3e1754b3"
   },
   "outputs": [
    {
     "name": "stdout",
     "output_type": "stream",
     "text": [
      "CV with reg_alpha=1e-05\n",
      "\tLogLoss 0.5499881999999999 for 9 rounds\n",
      "CV with reg_alpha=0.01\n",
      "\tLogLoss 0.5499909 for 9 rounds\n",
      "CV with reg_alpha=0.1\n",
      "\tLogLoss 0.550006 for 9 rounds\n",
      "CV with reg_alpha=1\n",
      "\tLogLoss 0.5501967999999999 for 9 rounds\n",
      "CV with reg_alpha=100\n",
      "\tLogLoss 0.5636141 for 9 rounds\n",
      "Best params: 1e-05\n"
     ]
    }
   ],
   "source": [
    "# hyperparameter tuning for reg_alpha\n",
    "min_logloss = float(\"Inf\")\n",
    "best_params = None\n",
    "\n",
    "\n",
    "for reg_alpha in [1e-5, 1e-2, 0.1, 1, 100]:\n",
    "    print(\"CV with reg_alpha={}\".format(reg_alpha))\n",
    "\n",
    "    # We update our parameters\n",
    "    params['reg_alpha'] = reg_alpha\n",
    "\n",
    "    # Run and time CV\n",
    "    cv_results = xgb.cv(\n",
    "            params,\n",
    "            d_train,\n",
    "            seed=42,\n",
    "            nfold=10,\n",
    "            metrics=['logloss'],\n",
    "            early_stopping_rounds=10\n",
    "          )\n",
    "\n",
    "    # Update best score\n",
    "    mean_logloss = cv_results['test-logloss-mean'].min()\n",
    "    boost_rounds = cv_results['test-logloss-mean'].argmin()\n",
    "    print(\"\\tLogLoss {} for {} rounds\".format(mean_logloss, boost_rounds))\n",
    "    if mean_logloss < min_logloss:\n",
    "        min_logloss = mean_logloss\n",
    "        best_params = reg_alpha\n",
    "\n",
    "# best reg_alpha        \n",
    "print(\"Best params: {}\".format(best_params))"
   ]
  },
  {
   "cell_type": "code",
   "execution_count": 177,
   "metadata": {
    "colab": {
     "base_uri": "https://localhost:8080/",
     "height": 374
    },
    "colab_type": "code",
    "id": "TCc_q6m_6U31",
    "outputId": "4eb99189-1486-451a-8e78-8703a908a338"
   },
   "outputs": [
    {
     "name": "stdout",
     "output_type": "stream",
     "text": [
      "CV with n_estimators=80\n",
      "\tLogLoss 0.5636141 for 9 rounds\n",
      "CV with n_estimators=95\n",
      "\tLogLoss 0.5636141 for 9 rounds\n",
      "CV with n_estimators=100\n",
      "\tLogLoss 0.5636141 for 9 rounds\n",
      "CV with n_estimators=140\n",
      "\tLogLoss 0.5636141 for 9 rounds\n",
      "CV with n_estimators=175\n",
      "\tLogLoss 0.5636141 for 9 rounds\n",
      "CV with n_estimators=250\n",
      "\tLogLoss 0.5636141 for 9 rounds\n",
      "CV with n_estimators=400\n",
      "\tLogLoss 0.5636141 for 9 rounds\n",
      "CV with n_estimators=600\n",
      "\tLogLoss 0.5636141 for 9 rounds\n",
      "CV with n_estimators=700\n",
      "\tLogLoss 0.5636141 for 9 rounds\n",
      "CV with n_estimators=900\n",
      "\tLogLoss 0.5636141 for 9 rounds\n",
      "Best params: 80\n"
     ]
    }
   ],
   "source": [
    "# hyperparameter tuning for number of estimators\n",
    "min_logloss = float(\"Inf\")\n",
    "best_params = None\n",
    "\n",
    "for n_estimators in [80, 95, 100, 140, 175, 250, 400, 600, 700, 900]:\n",
    "    print(\"CV with n_estimators={}\".format(n_estimators))\n",
    "\n",
    "    # We update our parameters\n",
    "    params['n_estimators'] = n_estimators\n",
    "\n",
    "    # Run and time CV\n",
    "    cv_results = xgb.cv(\n",
    "            params,\n",
    "            d_train,\n",
    "            seed=42,\n",
    "            nfold=10,\n",
    "            metrics=['logloss'],\n",
    "            early_stopping_rounds=10\n",
    "          )\n",
    "\n",
    "    # Update best score\n",
    "    mean_logloss = cv_results['test-logloss-mean'].min()\n",
    "    boost_rounds = cv_results['test-logloss-mean'].argmin()\n",
    "    print(\"\\tLogLoss {} for {} rounds\".format(mean_logloss, boost_rounds))\n",
    "    if mean_logloss < min_logloss:\n",
    "        min_logloss = mean_logloss\n",
    "        best_params = n_estimators\n",
    "# Best n_estimators\n",
    "print(\"Best params: {}\".format(best_params))"
   ]
  },
  {
   "cell_type": "markdown",
   "metadata": {
    "colab_type": "text",
    "id": "F5GxGYii6fRe"
   },
   "source": [
    "<h3>after hyper param"
   ]
  },
  {
   "cell_type": "code",
   "execution_count": 179,
   "metadata": {
    "colab": {
     "base_uri": "https://localhost:8080/",
     "height": 51
    },
    "colab_type": "code",
    "id": "dKWEh_KnJ3qz",
    "outputId": "f56efeae-cfba-445b-a151-a9220a845bef"
   },
   "outputs": [
    {
     "name": "stdout",
     "output_type": "stream",
     "text": [
      "Train f1 score 0.9749711439159225\n",
      "Test f1 score 0.932781667727562\n"
     ]
    }
   ],
   "source": [
    "from sklearn.metrics import f1_score\n",
    "clf = xgb.XGBClassifier(max_depth = 9,learning_rate=0.01,\n",
    "                        min_child_weight=1.0,\n",
    "                        reg_alpha = 1e-05, \n",
    "                        colsample_bytree = 0.9,colsample_bylevel = 0.7, \n",
    "                        gamma = 0.4, \n",
    "                        n_estimators=80, subsample = 0.9,  verbose=2, n_jobs = -1,\n",
    "                        silent = False)\n",
    "clf.fit(df_final_train_xgb,y_train)\n",
    "predict_y = clf.predict(df_final_test_xgb)\n",
    "#log_loss(y_test, predict_y, eps=1e-15)\n",
    "#print(\"The log loss is:\",log_loss(y_test, predict_y,  eps=1e-15))\n",
    "pred_y_train = clf.predict(df_final_train_xgb)\n",
    "\n",
    "\n",
    "\n",
    "print('Train f1 score',f1_score(y_train,pred_y_train))\n",
    "print('Test f1 score',f1_score(y_test,predict_y))\n",
    "\n"
   ]
  },
  {
   "cell_type": "code",
   "execution_count": 180,
   "metadata": {
    "colab": {
     "base_uri": "https://localhost:8080/",
     "height": 730
    },
    "colab_type": "code",
    "id": "giukza1BIW-R",
    "outputId": "3d4cf75f-b89b-4b76-d784-d0a78bdb72ef"
   },
   "outputs": [
    {
     "data": {
      "image/png": "[encoded data removed]",
      "text/plain": [
       "<Figure size 720x864 with 1 Axes>"
      ]
     },
     "metadata": {
      "tags": []
     },
     "output_type": "display_data"
    }
   ],
   "source": [
    "features = df_final_train.columns\n",
    "importances = clf.feature_importances_\n",
    "indices = (np.argsort(importances))[-68:]\n",
    "plt.figure(figsize=(10,12))\n",
    "plt.title('Feature Importances')\n",
    "plt.barh(range(len(indices)), importances[indices], color='b', align='center')\n",
    "plt.yticks(range(len(indices)), [features[i] for i in indices])\n",
    "plt.xlabel('Relative Importance')\n",
    "plt.show()\n",
    "\n"
   ]
  },
  {
   "cell_type": "markdown",
   "metadata": {
    "colab_type": "text",
    "id": "CrIa7iPLLExL"
   },
   "source": [
    "<h1>conclusion:<br></h1>\n",
    "STEP-1:intially took 'source-node' and 'destination-node'<br>\n",
    "STEP-2:added various features<br>\n",
    "STEP-3:after adding various features we tried out with some more features like preferencial-attachment,svd-dot<br>\n",
    "STEP-4:using xgboost we got train and test f1score 97,93<br>\n",
    "STEP-5:using above graph more important features can be observed"
   ]
  }
 ],
 "metadata": {
  "accelerator": "GPU",
  "colab": {
   "collapsed_sections": [],
   "name": "FB_Models.ipynb",
   "provenance": [],
   "version": "0.3.2"
  },
  "kernelspec": {
   "display_name": "Python 3",
   "language": "python",
   "name": "python3"
  },
  "language_info": {
   "codemirror_mode": {
    "name": "ipython",
    "version": 3
   },
   "file_extension": ".py",
   "mimetype": "text/x-python",
   "name": "python",
   "nbconvert_exporter": "python",
   "pygments_lexer": "ipython3",
   "version": "3.7.3"
  }
 },
 "nbformat": 4,
 "nbformat_minor": 1
}
